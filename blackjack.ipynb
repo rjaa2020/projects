{
  "nbformat": 4,
  "nbformat_minor": 0,
  "metadata": {
    "colab": {
      "provenance": [],
      "authorship_tag": "ABX9TyO8z+uyCU02NV6jGmskNqWb",
      "include_colab_link": true
    },
    "kernelspec": {
      "name": "python3",
      "display_name": "Python 3"
    },
    "language_info": {
      "name": "python"
    }
  },
  "cells": [
    {
      "cell_type": "markdown",
      "metadata": {
        "id": "view-in-github",
        "colab_type": "text"
      },
      "source": [
        "<a href=\"https://colab.research.google.com/github/rjaa2020/projects/blob/main/blackjack.ipynb\" target=\"_parent\"><img src=\"https://colab.research.google.com/assets/colab-badge.svg\" alt=\"Open In Colab\"/></a>"
      ]
    },
    {
      "cell_type": "code",
      "source": [
        "import random"
      ],
      "metadata": {
        "id": "M2SaLbuzXKae"
      },
      "execution_count": 1,
      "outputs": []
    },
    {
      "cell_type": "code",
      "source": [
        "class Deck():\n",
        "    def __init__(self, n_decks=1):\n",
        "        self.values = ['Ace', 2, 3, 4, 5, 6, 7, 8, 9, 10, 'Jack', 'Queen', 'King']\n",
        "        self.suites = ['Spades', 'Hearts', 'Clubs', 'Diamonds']\n",
        "        self.deck = [f\"{value} of {suite}\" for suite in self.suites for value in self.values] * n_decks\n",
        "        self.deck_values = {f\"{value} of {suite}\": (10 if isinstance(value, str) and value != 'Ace' else value) for suite in self.suites for value in self.values}\n",
        "        self.deck_size = len(self.deck)\n",
        "\n",
        "    def update_deck_size(self):\n",
        "        self.deck_size = len(self.deck)\n",
        "\n",
        "class Player():\n",
        "    def __init__(self, name):\n",
        "        self.hand = []\n",
        "        self.hand_value = 0\n",
        "        self.name = name\n",
        "        self.bust = False\n",
        "\n",
        "    def check_bust(self):\n",
        "        if self.hand_value > 21:\n",
        "            self.bust = True\n",
        "            print(f'------{self.name} busted!------')\n",
        "\n",
        "    def __repr__(self):\n",
        "        return self.name\n",
        "\n",
        "class BlackJack():\n",
        "    def __init__(self, n_players=1, n_decks=1, seed=None):\n",
        "        assert n_players > 0, \"Must be at least one player\"\n",
        "        assert n_decks > 0, \"Must be at least one\"\n",
        "\n",
        "        if seed is not None:\n",
        "            random.seed(seed)\n",
        "\n",
        "        self.deck = Deck(n_decks)\n",
        "        self.dealer = Player(\"Dealer\")\n",
        "        self.players = [Player(f\"Player {i}\") for i in range(1, n_players + 1)]\n",
        "        self.players_left = n_players\n",
        "\n",
        "    def get_card_value(self, card, player):\n",
        "        if isinstance(card, str):\n",
        "            if 'Ace' in card:\n",
        "                return 11 if player.hand_value + 11 <= 21 else 1\n",
        "        return self.deck.deck_values[card]\n",
        "\n",
        "    def pick_one_card(self, player):\n",
        "        if player.bust:\n",
        "            print(f\"{player} cannot draw any more cards\")\n",
        "        else:\n",
        "            card = self.deck.deck.pop(random.randint(0, len(self.deck.deck) - 1))\n",
        "            self.deck.update_deck_size()\n",
        "            value = self.get_card_value(card, player)\n",
        "\n",
        "            player.hand += [card]\n",
        "            player.hand_value += value\n",
        "            player.check_bust()\n",
        "\n",
        "            return card\n",
        "\n",
        "    def display_board(self):\n",
        "        print(\"------------------------------\")\n",
        "        print(f\"Dealer's hand: [{self.dealer.hand[0]}, ?]\")\n",
        "        for player in self.players:\n",
        "            print(f\"{player}'s hand: {player.hand}\")\n",
        "\n",
        "    def play_game(self):\n",
        "        for _ in range(2):\n",
        "            for player in [self.dealer] + self.players:\n",
        "                self.pick_one_card(player)\n",
        "        self.display_board()\n",
        "\n",
        "        for player in self.players:\n",
        "            while not player.bust:\n",
        "                print(\"------------------------------\")\n",
        "                print(f\"{player}'s turn:\")\n",
        "                if input(f\"Current value is {player.hand_value}. Do you want to hit? (yes/no): \").lower() == 'yes':\n",
        "                    self.pick_one_card(player)\n",
        "                    self.display_board()\n",
        "                else:\n",
        "                    break\n",
        "\n",
        "        # Dealer's turn\n",
        "        print(\"------------------------------\")\n",
        "        print(\"Dealer's turn:\")\n",
        "        print(f\"{self.dealer}'s hand: [{self.dealer.hand[0]}, ?]\")\n",
        "        self.display_board()\n",
        "        while not self.dealer.bust and self.dealer.hand_value < 17:\n",
        "            self.pick_one_card(self.dealer)\n",
        "            self.display_board()\n",
        "\n",
        "        # Determine winners\n",
        "        print(\"------------------------------\")\n",
        "        print(\"Final state of the game:\")\n",
        "        print(f\"{self.dealer}'s hand: {self.dealer.hand}\")\n",
        "        for player in self.players:\n",
        "            if not player.bust:\n",
        "                if self.dealer.bust or player.hand_value > self.dealer.hand_value:\n",
        "                    print(f\"{player} wins!\")\n",
        "                elif player.hand_value < self.dealer.hand_value:\n",
        "                    print(f\"{player} loses!\")\n",
        "                else:\n",
        "                    print(f\"{player} ties with the dealer!\")"
      ],
      "metadata": {
        "id": "VNoZfbAg-SCe"
      },
      "execution_count": 7,
      "outputs": []
    },
    {
      "cell_type": "code",
      "source": [
        "blackjack_game = BlackJack(n_players=1, n_decks=1)\n",
        "blackjack_game.play_game()"
      ],
      "metadata": {
        "colab": {
          "base_uri": "https://localhost:8080/"
        },
        "id": "UzbAG1Pd-T1l",
        "outputId": "b6a7aa0f-6efc-4540-a624-00bb2d3e3a9d"
      },
      "execution_count": 8,
      "outputs": [
        {
          "output_type": "stream",
          "name": "stdout",
          "text": [
            "------------------------------\n",
            "Dealer's hand: [9 of Diamonds, ?]\n",
            "Player 1's hand: ['9 of Hearts', 'Queen of Clubs']\n",
            "------------------------------\n",
            "Player 1's turn:\n",
            "Current value is 19. Do you want to hit? (yes/no): no\n",
            "------------------------------\n",
            "Dealer's turn:\n",
            "Dealer's hand: [9 of Diamonds, ?]\n",
            "------------------------------\n",
            "Dealer's hand: [9 of Diamonds, ?]\n",
            "Player 1's hand: ['9 of Hearts', 'Queen of Clubs']\n",
            "------------------------------\n",
            "Final state of the game:\n",
            "Dealer's hand: ['9 of Diamonds', '8 of Hearts']\n",
            "Player 1 wins!\n"
          ]
        }
      ]
    }
  ]
}