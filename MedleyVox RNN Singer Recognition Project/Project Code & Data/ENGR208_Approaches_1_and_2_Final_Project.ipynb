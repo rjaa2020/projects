{
  "cells": [
    {
      "cell_type": "markdown",
      "source": [
        "# MedleyVox Artist Recognition\n",
        "This project aims to identify how many singers are singing during an audio recording.\n",
        "\n",
        "We will use duet recordings from the MedleyVox dataset, available [here](https://huggingface.co/Cyru5/MedleyVox)\n",
        "\n",
        "<!-- This project will be largely based on the model building pipeline of HW8 on Language Classification with Transformers. Key deviations are as follows:\n",
        "\n",
        "1. **Model Selection:** We will be using *speechbrain.pretrained.EncoderClassifier* as our main model\n",
        "2. **Dataset Building:** We are using MedleyVox duets, since they are split into separate recordings of each vocalist. We will randomly choose 10 vocalists, then split each recording of them into 5 second clips. We will one-hot encode the ground-truth speaker to feed into our model. Use 80-10-10 train-test-validation split to ensure testing is on new data.\n",
        "2. **Feature Extraction:** Use *Librosa* and *SpeechBrain* to extract relevant features from audio clips. We are considering *spectrograms, MFCCs (Mel-frequency cepstral coefficients), and chromagrams*.\n",
        "3. **Finetuning:** Our main task will be using and finetuning *speechbrain.pretrained.EncoderClassifier* to classify the 10 speakers in our dataset.\n",
        "4. **Final Layer:** Add a final linear layer with ReLU activation of size (, 10) to classify the speaker in segment. (ReLU ensures that during testing we can classify more than 1 category).\n",
        "\n",
        "Testing:\n",
        "1. We will test on 5 second clips from the duet database -->"
      ],
      "metadata": {
        "id": "pq2HfFOBhLUD"
      }
    },
    {
      "cell_type": "code",
      "source": [
        "from google.colab import drive\n",
        "import pandas as pd\n",
        "import numpy as np\n",
        "import zipfile\n",
        "import os\n",
        "\n",
        "np.random.seed(0)\n",
        "\n",
        "drive.mount('/content/drive')\n",
        "zip_path = r'/content/drive/MyDrive/Pomona/ENGR208/MedleyVox.zip'"
      ],
      "metadata": {
        "id": "XOncCTv81sNj",
        "colab": {
          "base_uri": "https://localhost:8080/"
        },
        "outputId": "3e059772-595b-4c65-99d7-e73be8e3c5d9"
      },
      "execution_count": null,
      "outputs": [
        {
          "output_type": "stream",
          "name": "stdout",
          "text": [
            "Mounted at /content/drive\n"
          ]
        }
      ]
    },
    {
      "cell_type": "code",
      "source": [
        "if False:\n",
        "  # Specify the directory where you want to extract the files\n",
        "  extract_to = '/content/drive/MyDrive/Pomona/ENGR208/AudioFiles'\n",
        "\n",
        "  # Create the directory if it doesn't exist\n",
        "  os.makedirs(extract_to, exist_ok=True)\n",
        "\n",
        "  # Unzip the file\n",
        "  with zipfile.ZipFile(zip_path, 'r') as zip_ref:\n",
        "      zip_ref.extractall(extract_to)\n",
        "\n",
        "  print(\"Unzipping completed!\")"
      ],
      "metadata": {
        "id": "CU4Jr138H6n3"
      },
      "execution_count": null,
      "outputs": []
    },
    {
      "cell_type": "code",
      "source": [
        "!pip install pydub"
      ],
      "metadata": {
        "colab": {
          "base_uri": "https://localhost:8080/"
        },
        "id": "DID2sNW3O_c1",
        "outputId": "bbf39307-2256-4153-d34f-781844d05cd3"
      },
      "execution_count": null,
      "outputs": [
        {
          "output_type": "stream",
          "name": "stdout",
          "text": [
            "Collecting pydub\n",
            "  Downloading pydub-0.25.1-py2.py3-none-any.whl (32 kB)\n",
            "Installing collected packages: pydub\n",
            "Successfully installed pydub-0.25.1\n"
          ]
        }
      ]
    },
    {
      "cell_type": "code",
      "source": [
        "import os\n",
        "import random\n",
        "from pydub import AudioSegment\n",
        "import datetime\n",
        "\n",
        "def select_random_audio_file(segment_path):\n",
        "    \"\"\" Selects a random audio file from the given segment path \"\"\"\n",
        "    audio_files = [f for f in os.listdir(segment_path) if f.endswith('.wav')]\n",
        "    return random.sample(audio_files, 1)[0]\n",
        "\n",
        "def concatenate_singers(path_list):\n",
        "    \"\"\" Concatenates audio files \"\"\"\n",
        "    combined_audio = None\n",
        "    max_length=5000\n",
        "\n",
        "    for path in path_list:\n",
        "        audio = AudioSegment.from_file(path)\n",
        "        if len(audio) > max_length:  # Check if the audio file is longer than 5 seconds (5000 ms)\n",
        "            audio = audio[:max_length]  # Trim the audio to 5 seconds\n",
        "\n",
        "        if combined_audio is None:\n",
        "            combined_audio = audio\n",
        "        else:\n",
        "            combined_audio += audio\n",
        "\n",
        "    return combined_audio\n",
        "\n",
        "# Base directory where the 'AudioFiles/duet' folder is located\n",
        "base_dir = '/content/drive/MyDrive/Pomona/ENGR208/AudioFiles/MedleyVox'\n",
        "duet_dir = os.path.join(base_dir, \"duet\")\n",
        "\n",
        "# Directory to save the new audio file\n",
        "output_dir = os.path.join(base_dir, \"ConcatenatedAudios\")\n",
        "\n",
        "duet_folders = [os.path.join(duet_dir, d) for d in os.listdir(duet_dir) if os.path.isdir(os.path.join(duet_dir, d))]\n"
      ],
      "metadata": {
        "id": "s9TUk9mPLwla"
      },
      "execution_count": null,
      "outputs": []
    },
    {
      "cell_type": "code",
      "source": [
        "import datetime\n",
        "\n",
        "if False:\n",
        "  # Initialize an empty DataFrame\n",
        "  df = pd.DataFrame(columns=['FilePath', 'NumberOfSingers'])\n",
        "\n",
        "  # number of iterations we want to perform\n",
        "  num_iterations = 10  # create 10 concatenated files\n",
        "\n",
        "  for i in range(num_iterations):\n",
        "      # Randomly decide how many singers to include (between 1 and 8)\n",
        "      num_singers = random.randint(1, 8)\n",
        "\n",
        "      # Randomly select 'num_singers' different duet folders\n",
        "      selected_duets = random.sample(duet_folders, num_singers)\n",
        "\n",
        "      # Select a random segment from each duet folder and pick one audio file from each\n",
        "      audio_files = []\n",
        "      for duet_folder in selected_duets:\n",
        "          segments = [os.path.join(duet_folder, d) for d in os.listdir(duet_folder) if os.path.isdir(os.path.join(duet_folder, d))]\n",
        "          selected_segment = random.choice(segments)\n",
        "          gt_path = os.path.join(selected_segment, \"gt\")\n",
        "          selected_audio = select_random_audio_file(gt_path)\n",
        "          audio_files.append(os.path.join(gt_path, selected_audio))\n",
        "\n",
        "      # Generate a unique timestamp\n",
        "      timestamp = datetime.datetime.now().strftime(\"%Y%m%d%H%M%S%f\")\n",
        "\n",
        "      # Concatenate the selected audio files\n",
        "      result_audio = concatenate_singers(audio_files)\n",
        "\n",
        "      # Define a unique file name for each output\n",
        "      output_file_name = f\"combined_output_{num_singers}_singers.wav_{timestamp}\"\n",
        "      output_file_path = os.path.join(output_dir, output_file_name)\n",
        "\n",
        "      # Export the result into the new folder\n",
        "      result_audio.export(output_file_path, format=\"wav\")\n",
        "\n",
        "      # Create a new DataFrame for the current iteration and concatenate it with the main DataFrame\n",
        "      new_row = pd.DataFrame({'FilePath': [output_file_name], 'NumberOfSingers': [num_singers]})\n",
        "      df = pd.concat([df, new_row], ignore_index=True)\n",
        "\n",
        "  # Display the DataFrame\n",
        "  print(df)"
      ],
      "metadata": {
        "id": "jmfFGQ8bVqsv"
      },
      "execution_count": null,
      "outputs": []
    },
    {
      "cell_type": "code",
      "source": [
        "def count_files(directory):\n",
        "    file_count = 0\n",
        "    for root, dirs, files in os.walk(directory):\n",
        "      file_count += len(files)\n",
        "    return file_count\n",
        "\n",
        "print(\"Total number of files:\", count_files(duet_dir))"
      ],
      "metadata": {
        "colab": {
          "base_uri": "https://localhost:8080/"
        },
        "id": "9O1JyD49YWjt",
        "outputId": "6aeb0b1c-abe6-4a37-c8fa-cb3e14460ab1"
      },
      "execution_count": null,
      "outputs": [
        {
          "output_type": "stream",
          "name": "stdout",
          "text": [
            "Total number of files: 351\n"
          ]
        }
      ]
    },
    {
      "cell_type": "code",
      "source": [
        "!pip install speechbrain"
      ],
      "metadata": {
        "colab": {
          "base_uri": "https://localhost:8080/"
        },
        "id": "epsaXDN5142Y",
        "outputId": "32793b31-9f27-4fad-e06e-1d1000dda5b3"
      },
      "execution_count": null,
      "outputs": [
        {
          "output_type": "stream",
          "name": "stdout",
          "text": [
            "Collecting speechbrain\n",
            "  Downloading speechbrain-0.5.16-py3-none-any.whl (630 kB)\n",
            "\u001b[2K     \u001b[90m━━━━━━━━━━━━━━━━━━━━━━━━━━━━━━━━━━━━━━━━\u001b[0m \u001b[32m630.6/630.6 kB\u001b[0m \u001b[31m2.5 MB/s\u001b[0m eta \u001b[36m0:00:00\u001b[0m\n",
            "\u001b[?25hCollecting hyperpyyaml (from speechbrain)\n",
            "  Downloading HyperPyYAML-1.2.2-py3-none-any.whl (16 kB)\n",
            "Requirement already satisfied: joblib in /usr/local/lib/python3.10/dist-packages (from speechbrain) (1.3.2)\n",
            "Requirement already satisfied: numpy in /usr/local/lib/python3.10/dist-packages (from speechbrain) (1.23.5)\n",
            "Requirement already satisfied: packaging in /usr/local/lib/python3.10/dist-packages (from speechbrain) (23.2)\n",
            "Requirement already satisfied: scipy in /usr/local/lib/python3.10/dist-packages (from speechbrain) (1.11.4)\n",
            "Collecting sentencepiece (from speechbrain)\n",
            "  Downloading sentencepiece-0.1.99-cp310-cp310-manylinux_2_17_x86_64.manylinux2014_x86_64.whl (1.3 MB)\n",
            "\u001b[2K     \u001b[90m━━━━━━━━━━━━━━━━━━━━━━━━━━━━━━━━━━━━━━━━\u001b[0m \u001b[32m1.3/1.3 MB\u001b[0m \u001b[31m14.0 MB/s\u001b[0m eta \u001b[36m0:00:00\u001b[0m\n",
            "\u001b[?25hRequirement already satisfied: torch>=1.9 in /usr/local/lib/python3.10/dist-packages (from speechbrain) (2.1.0+cu118)\n",
            "Requirement already satisfied: torchaudio in /usr/local/lib/python3.10/dist-packages (from speechbrain) (2.1.0+cu118)\n",
            "Requirement already satisfied: tqdm in /usr/local/lib/python3.10/dist-packages (from speechbrain) (4.66.1)\n",
            "Requirement already satisfied: huggingface-hub in /usr/local/lib/python3.10/dist-packages (from speechbrain) (0.19.4)\n",
            "Requirement already satisfied: filelock in /usr/local/lib/python3.10/dist-packages (from torch>=1.9->speechbrain) (3.13.1)\n",
            "Requirement already satisfied: typing-extensions in /usr/local/lib/python3.10/dist-packages (from torch>=1.9->speechbrain) (4.5.0)\n",
            "Requirement already satisfied: sympy in /usr/local/lib/python3.10/dist-packages (from torch>=1.9->speechbrain) (1.12)\n",
            "Requirement already satisfied: networkx in /usr/local/lib/python3.10/dist-packages (from torch>=1.9->speechbrain) (3.2.1)\n",
            "Requirement already satisfied: jinja2 in /usr/local/lib/python3.10/dist-packages (from torch>=1.9->speechbrain) (3.1.2)\n",
            "Requirement already satisfied: fsspec in /usr/local/lib/python3.10/dist-packages (from torch>=1.9->speechbrain) (2023.6.0)\n",
            "Requirement already satisfied: triton==2.1.0 in /usr/local/lib/python3.10/dist-packages (from torch>=1.9->speechbrain) (2.1.0)\n",
            "Requirement already satisfied: requests in /usr/local/lib/python3.10/dist-packages (from huggingface-hub->speechbrain) (2.31.0)\n",
            "Requirement already satisfied: pyyaml>=5.1 in /usr/local/lib/python3.10/dist-packages (from huggingface-hub->speechbrain) (6.0.1)\n",
            "Collecting ruamel.yaml>=0.17.28 (from hyperpyyaml->speechbrain)\n",
            "  Downloading ruamel.yaml-0.18.5-py3-none-any.whl (116 kB)\n",
            "\u001b[2K     \u001b[90m━━━━━━━━━━━━━━━━━━━━━━━━━━━━━━━━━━━━━━━━\u001b[0m \u001b[32m116.4/116.4 kB\u001b[0m \u001b[31m10.1 MB/s\u001b[0m eta \u001b[36m0:00:00\u001b[0m\n",
            "\u001b[?25hCollecting ruamel.yaml.clib>=0.2.7 (from ruamel.yaml>=0.17.28->hyperpyyaml->speechbrain)\n",
            "  Downloading ruamel.yaml.clib-0.2.8-cp310-cp310-manylinux_2_17_x86_64.manylinux2014_x86_64.manylinux_2_24_x86_64.whl (526 kB)\n",
            "\u001b[2K     \u001b[90m━━━━━━━━━━━━━━━━━━━━━━━━━━━━━━━━━━━━━━━━\u001b[0m \u001b[32m526.7/526.7 kB\u001b[0m \u001b[31m16.3 MB/s\u001b[0m eta \u001b[36m0:00:00\u001b[0m\n",
            "\u001b[?25hRequirement already satisfied: MarkupSafe>=2.0 in /usr/local/lib/python3.10/dist-packages (from jinja2->torch>=1.9->speechbrain) (2.1.3)\n",
            "Requirement already satisfied: charset-normalizer<4,>=2 in /usr/local/lib/python3.10/dist-packages (from requests->huggingface-hub->speechbrain) (3.3.2)\n",
            "Requirement already satisfied: idna<4,>=2.5 in /usr/local/lib/python3.10/dist-packages (from requests->huggingface-hub->speechbrain) (3.6)\n",
            "Requirement already satisfied: urllib3<3,>=1.21.1 in /usr/local/lib/python3.10/dist-packages (from requests->huggingface-hub->speechbrain) (2.0.7)\n",
            "Requirement already satisfied: certifi>=2017.4.17 in /usr/local/lib/python3.10/dist-packages (from requests->huggingface-hub->speechbrain) (2023.11.17)\n",
            "Requirement already satisfied: mpmath>=0.19 in /usr/local/lib/python3.10/dist-packages (from sympy->torch>=1.9->speechbrain) (1.3.0)\n",
            "Installing collected packages: sentencepiece, ruamel.yaml.clib, ruamel.yaml, hyperpyyaml, speechbrain\n",
            "Successfully installed hyperpyyaml-1.2.2 ruamel.yaml-0.18.5 ruamel.yaml.clib-0.2.8 sentencepiece-0.1.99 speechbrain-0.5.16\n"
          ]
        }
      ]
    },
    {
      "cell_type": "code",
      "source": [
        "import torchaudio\n",
        "from speechbrain.pretrained import EncoderClassifier"
      ],
      "metadata": {
        "id": "12iA3XY-a5fb"
      },
      "execution_count": null,
      "outputs": []
    },
    {
      "cell_type": "code",
      "source": [
        "classifier = EncoderClassifier.from_hparams(source=\"speechbrain/spkrec-xvect-voxceleb\", savedir=\"pretrained_models/spkrec-xvect-voxceleb\")"
      ],
      "metadata": {
        "id": "L7Quvj9y1GOE",
        "colab": {
          "base_uri": "https://localhost:8080/",
          "height": 177,
          "referenced_widgets": [
            "39e1510863a3406c9e960cac382ac314",
            "97d4cfdb2c9443b883eedbf002ceadf7",
            "de8ed15498804d5f815c991ca45e961f",
            "8cf5a0baeb9544028cf4471320756f55",
            "519b090ef89041aeada345478ac2b3f6",
            "a0cd2eccb1244309a2b24616842305da",
            "820e04bd7af341ed96e98235336f9053",
            "fc1b9744868746999ff8b53ee17cfff5",
            "2f52bb70a88f42688aff24b66d9413da",
            "e82e4d23b0e14af0afcc845205501646",
            "0320494e9f2c42c3b9c5c7532edbde3b",
            "b4c8a29946494bb38c05fd1496423488",
            "e77b9a91c4bd46e1bcbebea1a1a58ed9",
            "92c543100502475486b0691588417310",
            "f1ca4037a0ca48169a5cae930d552e16",
            "c4f0b518afc342d6b063ecb913fd8761",
            "c572b9db17144df5999df2cd3ce841de",
            "f34327fe31f7423b9ba53c1d32c17601",
            "1d87a089f3f14bb68eb28069e18a88e0",
            "61b86270caa54b5787e3df00a224b0e2",
            "80bf029a2ab44217898c9bbd2b97c618",
            "f75ffae73947461caa556feaf900f91d",
            "38c6f8760247403991f292c91c18581a",
            "4afd253c054b4b67903d58fd852e8174",
            "64fae5e77e754af4b2712a86e1caf488",
            "12498104675e4decb009f333398236c0",
            "c970ffa9d4394c8cbe55f264906342f9",
            "53483d61544c4fac95fb7ca3438a4590",
            "ffe4d00e32bd4ee4940cb38bbfd3caef",
            "dd91983e0f2246d3afa1494f72011aa1",
            "106b1b0991884bb2add533da8a37642d",
            "0329a9f7d7294ee5b6cdb539bb8dc618",
            "773d3fa13fdf44ce833f9a4c5008f63a",
            "f85190abc0d54eaa9ee5c79ddf7d0f8a",
            "855c746d993a445ba35d5f1897ad9294",
            "fc3495a737644243860558e9c8306c55",
            "13bd494b14b54de8a37646b867a24aa8",
            "5786b6e5e179495eb8a4147dd6cf8d7f",
            "a34f1a2919e948ee870f6664b98ca620",
            "299c55435e164af2849faa6e060cd786",
            "822fd7c488cc481cb71c779e4c5ace34",
            "0d98293be1404529af059c1900eee6df",
            "f17be5556a414b55a642be87d0e36b97",
            "4914bb5f41ff49b9b5665f77a74aa7e8",
            "683cc940d11840b0aa6a482baa442fd1",
            "86dc560d23304778a1cbd6d97f2a6306",
            "1b0d71ac38bb402a9a5d8a03e58aac68",
            "6f3f3423556843558639825bd8fe0209",
            "3e99863565404c83b8a6f970a3fb8367",
            "c3bbf9aa537743bc946e119cab3cf159",
            "1557cc9f426f48b89a0f876e03779b42",
            "fc2421b3e8464b8289f0e454321c128e",
            "35da5fa89062426ba82255a3b9b6d6bf",
            "09e06edfe6dc45edb62280935ead3762",
            "073fe3d69c284bcd89c8cf48cfa53ecc"
          ]
        },
        "outputId": "8fc9d7dd-bbec-4db7-ab9f-35042b0613fa"
      },
      "execution_count": null,
      "outputs": [
        {
          "output_type": "display_data",
          "data": {
            "text/plain": [
              "hyperparams.yaml:   0%|          | 0.00/2.04k [00:00<?, ?B/s]"
            ],
            "application/vnd.jupyter.widget-view+json": {
              "version_major": 2,
              "version_minor": 0,
              "model_id": "39e1510863a3406c9e960cac382ac314"
            }
          },
          "metadata": {}
        },
        {
          "output_type": "display_data",
          "data": {
            "text/plain": [
              "embedding_model.ckpt:   0%|          | 0.00/16.9M [00:00<?, ?B/s]"
            ],
            "application/vnd.jupyter.widget-view+json": {
              "version_major": 2,
              "version_minor": 0,
              "model_id": "b4c8a29946494bb38c05fd1496423488"
            }
          },
          "metadata": {}
        },
        {
          "output_type": "display_data",
          "data": {
            "text/plain": [
              "mean_var_norm_emb.ckpt:   0%|          | 0.00/3.20k [00:00<?, ?B/s]"
            ],
            "application/vnd.jupyter.widget-view+json": {
              "version_major": 2,
              "version_minor": 0,
              "model_id": "38c6f8760247403991f292c91c18581a"
            }
          },
          "metadata": {}
        },
        {
          "output_type": "display_data",
          "data": {
            "text/plain": [
              "classifier.ckpt:   0%|          | 0.00/15.9M [00:00<?, ?B/s]"
            ],
            "application/vnd.jupyter.widget-view+json": {
              "version_major": 2,
              "version_minor": 0,
              "model_id": "f85190abc0d54eaa9ee5c79ddf7d0f8a"
            }
          },
          "metadata": {}
        },
        {
          "output_type": "display_data",
          "data": {
            "text/plain": [
              "label_encoder.txt:   0%|          | 0.00/129k [00:00<?, ?B/s]"
            ],
            "application/vnd.jupyter.widget-view+json": {
              "version_major": 2,
              "version_minor": 0,
              "model_id": "683cc940d11840b0aa6a482baa442fd1"
            }
          },
          "metadata": {}
        }
      ]
    },
    {
      "cell_type": "markdown",
      "source": [
        "## Pre-processing"
      ],
      "metadata": {
        "id": "izGfcCiOwqMg"
      }
    },
    {
      "cell_type": "code",
      "source": [
        "import os\n",
        "import shutil\n",
        "\n",
        "def clear_directory(directory):\n",
        "    for filename in os.listdir(directory):\n",
        "        file_path = os.path.join(directory, filename)\n",
        "        try:\n",
        "            if os.path.isfile(file_path) or os.path.islink(file_path):\n",
        "                os.unlink(file_path)\n",
        "            elif os.path.isdir(file_path):\n",
        "                shutil.rmtree(file_path)\n",
        "        except Exception as e:\n",
        "            print('Failed to delete %s. Reason: %s' % (file_path, e))"
      ],
      "metadata": {
        "id": "qjkfxFfAWe58"
      },
      "execution_count": null,
      "outputs": []
    },
    {
      "cell_type": "code",
      "source": [
        "import os\n",
        "import random\n",
        "from pydub import AudioSegment\n",
        "import datetime\n",
        "\n",
        "def rnn_concatenate_singers(path_list, max_length=5000):\n",
        "    \"\"\" Concatenates audio files and creates a singer switch list. \"\"\"\n",
        "    combined_audio = None\n",
        "    singer_switch = []\n",
        "\n",
        "    for path in path_list:\n",
        "        audio = AudioSegment.from_file(path)\n",
        "        audio_len = len(audio)\n",
        "\n",
        "        if audio_len > max_length:  # Trimming audio if longer than max_length\n",
        "            audio = audio[:max_length]\n",
        "\n",
        "        if combined_audio is None:\n",
        "            combined_audio = audio\n",
        "            singer_switch = [1] + [0] * (len(audio) - 1)\n",
        "        else:\n",
        "            combined_audio += audio\n",
        "            singer_switch.extend([1] + [0] * (len(audio) - 1))\n",
        "\n",
        "        # Ensure the length of singer_switch aligns with combined_audio\n",
        "        if len(singer_switch) > len(combined_audio):\n",
        "            singer_switch = singer_switch[:len(combined_audio)]\n",
        "\n",
        "    return combined_audio, singer_switch"
      ],
      "metadata": {
        "id": "VLWm56E_u2O8"
      },
      "execution_count": null,
      "outputs": []
    },
    {
      "cell_type": "code",
      "source": [
        "# @title get_embeddings() chunked by time\n",
        "# def get_embeddings(PATH, chunk_size_seconds=0.5):\n",
        "\n",
        "#   signal, fs = torchaudio.load(PATH)\n",
        "\n",
        "#   # Define chunk size in seconds and convert to samples\n",
        "#   chunk_size_samples = int(chunk_size_seconds * fs)\n",
        "\n",
        "#   # Initialize a list to hold the chunks\n",
        "#   chunks = []\n",
        "\n",
        "#   # Iterate over the signal and extract chunks\n",
        "#   for start in range(0, signal.shape[1], chunk_size_samples):\n",
        "#       end = start + chunk_size_samples\n",
        "#       if end > signal.shape[1]:\n",
        "#           # This is the last chunk and may be smaller than the others\n",
        "#           chunk = signal[:, start:]\n",
        "#       else:\n",
        "#           chunk = signal[:, start:end]\n",
        "#       chunks.append(chunk)\n",
        "\n",
        "#   embeddings_list = []\n",
        "\n",
        "#   for chunk in chunks:\n",
        "#       # Get the embeddings for each chunk\n",
        "#       embedding = classifier.encode_batch(chunk)\n",
        "\n",
        "#       embedding_np = embedding.numpy() if not isinstance(embedding, np.ndarray) else embedding\n",
        "\n",
        "#       # Append to the list\n",
        "#       embeddings_list.append(embedding_np)\n",
        "\n",
        "#   # Stack all embeddings\n",
        "#   final_embeddings =  np.stack(embeddings_list, axis=0)\n",
        "\n",
        "#   N, H, W, D = final_embeddings.shape\n",
        "#   reshaped_embeddings = final_embeddings.reshape(N, H*W*D)\n",
        "\n",
        "#   scaler = StandardScaler()\n",
        "#   normalized_embeddings = scaler.fit_transform(reshaped_embeddings)\n",
        "\n",
        "#   return normalized_embeddings"
      ],
      "metadata": {
        "cellView": "form",
        "id": "1f0n9YVdZEwi"
      },
      "execution_count": null,
      "outputs": []
    },
    {
      "cell_type": "code",
      "source": [
        "import torchaudio\n",
        "import numpy as np\n",
        "from sklearn.preprocessing import StandardScaler\n",
        "\n",
        "def get_embeddings(PATH, num_chunks=20):\n",
        "    signal, fs = torchaudio.load(PATH)\n",
        "\n",
        "    # Calculate chunk size in samples based on the number of chunks\n",
        "    chunk_size_samples = signal.shape[1] // num_chunks\n",
        "\n",
        "    # Initialize a list to hold the chunks\n",
        "    chunks = []\n",
        "\n",
        "    # Iterate over the signal and extract chunks\n",
        "    for i in range(num_chunks):\n",
        "        start = i * chunk_size_samples\n",
        "        end = signal.shape[1] if i == num_chunks - 1 else start + chunk_size_samples\n",
        "        chunk = signal[:, start:end]\n",
        "        chunks.append(chunk)\n",
        "\n",
        "    embeddings_list = []\n",
        "\n",
        "    for chunk in chunks:\n",
        "        # Get the embeddings for each chunk\n",
        "        embedding = classifier.encode_batch(chunk)\n",
        "\n",
        "        embedding_np = embedding.numpy() if not isinstance(embedding, np.ndarray) else embedding\n",
        "\n",
        "        # Append to the list\n",
        "        embeddings_list.append(embedding_np)\n",
        "\n",
        "    # Stack all embeddings\n",
        "    final_embeddings = np.stack(embeddings_list, axis=0)\n",
        "\n",
        "    N, H, W, D = final_embeddings.shape\n",
        "    reshaped_embeddings = final_embeddings.reshape(N, H*W*D)\n",
        "\n",
        "    scaler = StandardScaler()\n",
        "    normalized_embeddings = scaler.fit_transform(reshaped_embeddings)\n",
        "\n",
        "    return normalized_embeddings"
      ],
      "metadata": {
        "id": "UWerBOf6Koow"
      },
      "execution_count": null,
      "outputs": []
    },
    {
      "cell_type": "code",
      "source": [
        "import numpy as np\n",
        "\n",
        "np.random.seed(3)\n",
        "\n",
        "def split_singer_switch(singer_switch, num_chunks=20):\n",
        "    # chunks = []\n",
        "\n",
        "    # # Calculate chunk size based on the length of singer_switch and num_chunks\n",
        "    # n = len(singer_switch)\n",
        "    # chunk_size = n // num_chunks\n",
        "\n",
        "    # for i in range(num_chunks):\n",
        "    #     start = i * chunk_size\n",
        "    #     # For the last chunk, extend to the end of the array\n",
        "    #     end = n if i == num_chunks - 1 else start + chunk_size\n",
        "    #     chunks.append(singer_switch[start:end])\n",
        "\n",
        "    # chunks = np.array(chunks)\n",
        "    # return np.sum(chunks, axis=1)\n",
        "\n",
        "    return np.sum(singer_switch.reshape(num_chunks, -1), axis=1)\n",
        "\n",
        "singer_switch = np.random.choice([0, 1], size=10000, replace=True, p=[0.9998, 0.0002])\n",
        "split_singer_switch(singer_switch)"
      ],
      "metadata": {
        "colab": {
          "base_uri": "https://localhost:8080/"
        },
        "id": "XWb8PVE_KANT",
        "outputId": "c2333ba8-5450-4779-9995-88d5771548ae"
      },
      "execution_count": null,
      "outputs": [
        {
          "output_type": "execute_result",
          "data": {
            "text/plain": [
              "array([0, 0, 0, 0, 0, 1, 0, 0, 0, 0, 0, 1, 0, 0, 0, 0, 0, 0, 0, 0])"
            ]
          },
          "metadata": {},
          "execution_count": 11
        }
      ]
    },
    {
      "cell_type": "code",
      "source": [
        "class TrainingSong:\n",
        "    def __init__(self, filepath, num_singers, singer_switch):\n",
        "        self.file_path = filepath\n",
        "        self.file_name = self.file_path.split('/')[-1]\n",
        "        self.num_singers = num_singers\n",
        "        self.singer_switch = np.array(singer_switch)\n",
        "        self.indices_of_switch = [i for i, x in enumerate(self.singer_switch) if x == 1]\n",
        "        self.ground_truth = self.indices_of_switch + ([None]*(8 - len(self.indices_of_switch)))\n",
        "        self.embeddings = get_embeddings(self.file_path)\n",
        "        self.switches = split_singer_switch(self.singer_switch)\n",
        "\n",
        "    def __repr__(self):\n",
        "      return self.file_name.split('.')[0]\n",
        "\n",
        "    def __str__(self):\n",
        "        return f\"{self.file_name} has {self.num_singers:02} singers with switches at {self.indices_of_switch}\""
      ],
      "metadata": {
        "id": "SpIr4vM-eWYK"
      },
      "execution_count": null,
      "outputs": []
    },
    {
      "cell_type": "markdown",
      "source": [
        "# Approach 1: Clustering"
      ],
      "metadata": {
        "id": "5RUthklwbceO"
      }
    },
    {
      "cell_type": "code",
      "source": [
        "import pickle\n",
        "\n",
        "audio_path = '/content/drive/MyDrive/Pomona/ENGR208/AudioFiles/MedleyVox/RNN_ConcatenatedAudios/training_songs.pkl'\n",
        "\n",
        "# Open the file and load the objects\n",
        "with open(audio_path, 'rb') as file:\n",
        "    training_songs = pickle.load(file)"
      ],
      "metadata": {
        "id": "kDurTBohYVy-"
      },
      "execution_count": null,
      "outputs": []
    },
    {
      "cell_type": "markdown",
      "source": [
        "## Two Singers"
      ],
      "metadata": {
        "id": "fqQkJVYVlPoq"
      }
    },
    {
      "cell_type": "code",
      "source": [
        "from sklearn.cluster import MeanShift\n",
        "from sklearn.cluster import estimate_bandwidth\n",
        "from sklearn.decomposition import PCA\n",
        "\n",
        "# Reduce the data 1\n",
        "pca = PCA(n_components=1)\n",
        "\n",
        "# Apply Mean Shift clustering to each song\n",
        "for song in training_songs:\n",
        "    pca_embeddings = pca.fit_transform(song.embeddings)\n",
        "\n",
        "    estimated_bandwidth = estimate_bandwidth(pca_embeddings, quantile=0.5)\n",
        "    # estimated_bandwidth = estimate_bandwidth(song.embeddings, quantile=0.45)\n",
        "\n",
        "    meanshift = MeanShift(bandwidth=estimated_bandwidth)\n",
        "    song.cluster_labels = meanshift.fit_predict(pca_embeddings)\n",
        "\n",
        "    # Print cluster assignments\n",
        "    print(\"Cluster Assignments:\", song.cluster_labels)\n",
        "\n",
        "    # Count the number of unique clusters\n",
        "    num_singers = len(np.unique(song.cluster_labels))\n",
        "    print(\"Estimated Number of Singers:\", num_singers)"
      ],
      "metadata": {
        "id": "Y7JVHM3nsfbx"
      },
      "execution_count": null,
      "outputs": []
    },
    {
      "cell_type": "code",
      "source": [
        "correct_predictions = 0\n",
        "total_songs = len(training_songs)\n",
        "\n",
        "for song in training_songs:\n",
        "    estimated_singers = len(set(song.cluster_labels))\n",
        "    if estimated_singers == song.num_singers:\n",
        "        correct_predictions += 1\n",
        "\n",
        "accuracy_percentage = (correct_predictions / total_songs) * 100\n",
        "print(f\"Accuracy: {accuracy_percentage}%\")"
      ],
      "metadata": {
        "colab": {
          "base_uri": "https://localhost:8080/"
        },
        "id": "9PcuTxKEadmE",
        "outputId": "9b36152e-d2c0-467f-8102-63c9b3c8eb5c"
      },
      "execution_count": null,
      "outputs": [
        {
          "output_type": "stream",
          "name": "stdout",
          "text": [
            "Accuracy: 75.69444444444444%\n"
          ]
        }
      ]
    },
    {
      "cell_type": "markdown",
      "source": [
        "## Two Singers - Randomized chunk times"
      ],
      "metadata": {
        "id": "xypFG_6erMiy"
      }
    },
    {
      "cell_type": "code",
      "source": [
        "import pickle\n",
        "\n",
        "audio_path = '/content/drive/MyDrive/Pomona/ENGR208/AudioFiles/MedleyVox/RNN_ConcatenatedAudios_legacy/training_songs.pkl'\n",
        "\n",
        "# Open the file and load the objects\n",
        "with open(audio_path, 'rb') as file:\n",
        "    training_songs = pickle.load(file)"
      ],
      "metadata": {
        "id": "XMbLaBejrlpN"
      },
      "execution_count": null,
      "outputs": []
    },
    {
      "cell_type": "code",
      "source": [
        "from sklearn.cluster import MeanShift\n",
        "from sklearn.cluster import estimate_bandwidth\n",
        "from sklearn.decomposition import PCA\n",
        "\n",
        "# Reduce the data 1\n",
        "pca = PCA(n_components=1)\n",
        "\n",
        "# Apply Mean Shift clustering to each song\n",
        "for song in training_songs:\n",
        "    pca_embeddings = pca.fit_transform(song.embeddings)\n",
        "\n",
        "    estimated_bandwidth = estimate_bandwidth(pca_embeddings, quantile=0.5)\n",
        "    # estimated_bandwidth = estimate_bandwidth(song.embeddings, quantile=0.45)\n",
        "\n",
        "    meanshift = MeanShift(bandwidth=estimated_bandwidth)\n",
        "    song.cluster_labels = meanshift.fit_predict(pca_embeddings)\n",
        "\n",
        "    # Print cluster assignments\n",
        "    print(\"Cluster Assignments:\", song.cluster_labels)\n",
        "\n",
        "    # Count the number of unique clusters\n",
        "    num_singers = len(np.unique(song.cluster_labels))\n",
        "    print(\"Estimated Number of Singers:\", num_singers)"
      ],
      "metadata": {
        "id": "m81EcvUhrMi_"
      },
      "execution_count": null,
      "outputs": []
    },
    {
      "cell_type": "code",
      "source": [
        "correct_predictions = 0\n",
        "total_songs = len(training_songs)\n",
        "\n",
        "for song in training_songs:\n",
        "    estimated_singers = len(set(song.cluster_labels))\n",
        "    if estimated_singers == song.num_singers:\n",
        "        correct_predictions += 1\n",
        "\n",
        "accuracy_percentage = (correct_predictions / total_songs) * 100\n",
        "print(f\"Accuracy: {accuracy_percentage}%\")"
      ],
      "metadata": {
        "colab": {
          "base_uri": "https://localhost:8080/"
        },
        "outputId": "58bb5424-a8d7-491f-9fef-030b78d2c04d",
        "id": "695CQHB_rMi_"
      },
      "execution_count": null,
      "outputs": [
        {
          "output_type": "stream",
          "name": "stdout",
          "text": [
            "Accuracy: 72.5%\n"
          ]
        }
      ]
    },
    {
      "cell_type": "markdown",
      "source": [
        "## 2 - 8 Singers"
      ],
      "metadata": {
        "id": "BmRo5Tt-lbCI"
      }
    },
    {
      "cell_type": "code",
      "source": [
        "import pickle\n",
        "\n",
        "audio_path = '/content/drive/MyDrive/Pomona/ENGR208/AudioFiles/MedleyVox/RNN_ConcatenatedAudios2/training_songs.pkl'\n",
        "\n",
        "# Open the file and load the objects\n",
        "with open(audio_path, 'rb') as file:\n",
        "    training_songs2 = pickle.load(file)"
      ],
      "metadata": {
        "id": "7FLS0qDXlbCW"
      },
      "execution_count": null,
      "outputs": []
    },
    {
      "cell_type": "code",
      "source": [
        "from sklearn.cluster import MeanShift\n",
        "from sklearn.cluster import estimate_bandwidth\n",
        "from sklearn.decomposition import PCA\n",
        "\n",
        "# Reduce the data 1\n",
        "pca = PCA(n_components=3)\n",
        "\n",
        "# Apply Mean Shift clustering to each song\n",
        "for song in training_songs2:\n",
        "    pca_embeddings = pca.fit_transform(song.embeddings)\n",
        "\n",
        "    estimated_bandwidth = estimate_bandwidth(pca_embeddings, quantile=0.25)\n",
        "    # estimated_bandwidth = estimate_bandwidth(song.embeddings, quantile=0.45)\n",
        "\n",
        "    meanshift = MeanShift(bandwidth=estimated_bandwidth)\n",
        "    song.cluster_labels = meanshift.fit_predict(pca_embeddings)\n",
        "\n",
        "    print(\"Number of Actual Singers:\", song.num_singers)\n",
        "\n",
        "    # Print cluster assignments\n",
        "    print(\"Cluster Assignments:\", song.cluster_labels)\n",
        "\n",
        "    # Count the number of unique clusters\n",
        "    num_singers = len(np.unique(song.cluster_labels))\n",
        "    print(\"Estimated Number of Singers:\", num_singers)"
      ],
      "metadata": {
        "id": "cUrpaiO5lhjf"
      },
      "execution_count": null,
      "outputs": []
    },
    {
      "cell_type": "code",
      "source": [
        "correct_predictions = 0\n",
        "total_songs = len(training_songs)\n",
        "\n",
        "for song in training_songs2:\n",
        "    estimated_singers = len(set(song.cluster_labels))\n",
        "    if estimated_singers == song.num_singers:\n",
        "        correct_predictions += 1\n",
        "\n",
        "accuracy_percentage = (correct_predictions / total_songs) * 100\n",
        "print(f\"Accuracy: {accuracy_percentage}%\")"
      ],
      "metadata": {
        "colab": {
          "base_uri": "https://localhost:8080/"
        },
        "outputId": "3b0b152a-93f0-4c65-8959-cadf78a467f1",
        "id": "62Dugm2plhjf"
      },
      "execution_count": null,
      "outputs": [
        {
          "output_type": "stream",
          "name": "stdout",
          "text": [
            "Accuracy: 18.0%\n"
          ]
        }
      ]
    },
    {
      "cell_type": "markdown",
      "source": [
        "# Approach 2: Pyannote\n",
        "\n",
        "\n"
      ],
      "metadata": {
        "id": "fS_NAZRy3Eq3"
      }
    },
    {
      "cell_type": "code",
      "source": [
        "import pickle\n",
        "\n",
        "audio_path = '/content/drive/MyDrive/Pomona/ENGR208/AudioFiles/MedleyVox/RNN_ConcatenatedAudios2/training_songs.pkl'\n",
        "\n",
        "# Open the file and load the objects\n",
        "with open(audio_path, 'rb') as file:\n",
        "    training_songs3 = pickle.load(file)"
      ],
      "metadata": {
        "id": "nCFNByhJhoad"
      },
      "execution_count": null,
      "outputs": []
    },
    {
      "cell_type": "code",
      "source": [
        "from huggingface_hub import notebook_login\n",
        "notebook_login()"
      ],
      "metadata": {
        "colab": {
          "base_uri": "https://localhost:8080/",
          "height": 145,
          "referenced_widgets": [
            "400b2663d407425fb6856edfe32c9db4",
            "520ec4a8376f4750bf17d283f327d18b",
            "783752b4b1c94c62848dd9ace477f7a5",
            "689c5b9ec858441480dc93febe27296a",
            "56205f471fa245e3a1bec5372eaee44d",
            "e0fca0b0a3644919b6592c8121e63d80",
            "7b55f5f22c7d4f7b890778f6d34f645e",
            "bdf85440f5be43ada7f7327478a27f74",
            "43051be38bde4dbaa315b1795f6c3a5f",
            "4826f7ab97544d2491ca389bf20e1432",
            "ef8e258ec8744cf785afe9836997ef25",
            "e56df2d0ba9044679dc63ee40d7d90ba",
            "86c68372f0104fadbe1857a740bae2ef",
            "8339591b210b47ee8cb80171ebf7fea1",
            "f5332d7e58d74d2db5e0adeba4ae301b",
            "0409feca6d364d4bb3315d91497a2e58",
            "c309831c219c4fb587a2b44716dec86e",
            "d8e4ca4cbe16402a924a23c98a2e76c6",
            "d0f57606d21b45f4b3c802c0b7421487",
            "1a5b37ae02ec4e29be09e41ecf2ad8ac",
            "f357574fad604ae4b47160123c85c6c6",
            "1e4f702596ad4fb4bf102cee18562735",
            "e7ec566f347547e2a6cde4aa785c10b2",
            "a7891bbbefbb451faf87205ebbdeda14",
            "450f7d0561d14ab2aba2349515c94138",
            "1324615b30114107b26b8d78e6858609",
            "c03a12c644294556893f319dbd55db32",
            "bc40d88b015143809e6e12d7904238cf",
            "08ddb47fa5f448bba6305ed9dc500187",
            "9bf8cd1d945045bb848878ce14d8b99b",
            "3ca197181ead4d1aa8255700d1cf76c6",
            "cb3ade9668954b9baae6d8f68080b10e"
          ]
        },
        "id": "jO9NXixw3V7H",
        "outputId": "021d8815-90e6-4f1d-f144-91c8a657e317"
      },
      "execution_count": null,
      "outputs": [
        {
          "output_type": "display_data",
          "data": {
            "text/plain": [
              "VBox(children=(HTML(value='<center> <img\\nsrc=https://huggingface.co/front/assets/huggingface_logo-noborder.sv…"
            ],
            "application/vnd.jupyter.widget-view+json": {
              "version_major": 2,
              "version_minor": 0,
              "model_id": "400b2663d407425fb6856edfe32c9db4"
            }
          },
          "metadata": {}
        }
      ]
    },
    {
      "cell_type": "code",
      "source": [
        "!pip install pyannote.audio"
      ],
      "metadata": {
        "id": "4nGyWGOd3ahI"
      },
      "execution_count": null,
      "outputs": []
    },
    {
      "cell_type": "code",
      "source": [
        "import torch\n",
        "import torchaudio"
      ],
      "metadata": {
        "id": "MKBQbYZSLamV"
      },
      "execution_count": null,
      "outputs": []
    },
    {
      "cell_type": "code",
      "source": [
        "# print the result\n",
        "def classification(diarization):\n",
        "  count_dict = {}\n",
        "  for turn, _, speaker in diarization.itertracks(yield_label=True):\n",
        "      if speaker in count_dict:\n",
        "        count_dict[speaker] += 1\n",
        "      else:\n",
        "        count_dict[speaker] = 1\n",
        "\n",
        "      # print(f\"start={turn.start:.1f}s stop={turn.end:.1f}s speaker_{speaker}\")\n",
        "\n",
        "  return len(count_dict)\n",
        "\n",
        "# start=0.2s stop=1.5s speaker_0\n",
        "# start=1.8s stop=3.9s speaker_1\n",
        "# start=4.2s stop=5.7s speaker_0\n",
        "# ..."
      ],
      "metadata": {
        "id": "SHsQrAF79yHg"
      },
      "execution_count": null,
      "outputs": []
    },
    {
      "cell_type": "code",
      "source": [
        "from pyannote.audio import Pipeline\n",
        "pipeline = Pipeline.from_pretrained(\n",
        "  \"pyannote/speaker-diarization-3.1\",\n",
        "  use_auth_token=True)"
      ],
      "metadata": {
        "id": "tL6xX8f14sCX"
      },
      "execution_count": null,
      "outputs": []
    },
    {
      "cell_type": "code",
      "source": [
        "for song in training_songs3:\n",
        "  diarization = pipeline(song.file_path, min_speakers=2, max_speakers=7)\n",
        "\n",
        "  song.classification = classification(diarization)\n",
        "  print(f\"Number of Singers: {song.num_singers}\")\n",
        "  print(f\"Number of Predicted Singers: {song.classification}\")"
      ],
      "metadata": {
        "id": "yBqTdx-CTtJv"
      },
      "execution_count": null,
      "outputs": []
    },
    {
      "cell_type": "code",
      "source": [
        "correct = 0\n",
        "\n",
        "for song in training_songs3:\n",
        "  if song.num_singers == song.classification:\n",
        "    correct += 1\n",
        "  song.diff = song.num_singers - song.classification\n",
        "\n",
        "accuracy = (correct / (len(training_songs3))) * 100\n",
        "print(f\"Accuracy:{accuracy}%\")\n"
      ],
      "metadata": {
        "colab": {
          "base_uri": "https://localhost:8080/"
        },
        "id": "pmOB4PUBokO7",
        "outputId": "6d7bcea6-da38-4607-8ad8-ff733348c5fc"
      },
      "execution_count": null,
      "outputs": [
        {
          "output_type": "stream",
          "name": "stdout",
          "text": [
            "Accuracy:7.5%\n"
          ]
        }
      ]
    },
    {
      "cell_type": "code",
      "source": [
        "import matplotlib.pyplot as plt\n",
        "from collections import Counter\n",
        "\n",
        "\n",
        "difference_counts = Counter([song.diff for song in training_songs3])\n",
        "differences = list(difference_counts.keys())\n",
        "counts = list(difference_counts.values())"
      ],
      "metadata": {
        "id": "9LC7d0c1phZy"
      },
      "execution_count": null,
      "outputs": []
    },
    {
      "cell_type": "code",
      "source": [
        "plt.figure(figsize=(10, 6))\n",
        "plt.bar(differences, counts)\n",
        "plt.title('Frequency of Differences between Actual and Predicted Number of Singers')\n",
        "plt.xlabel('Difference (Actual - Predicted)')\n",
        "plt.ylabel('Frequency')\n",
        "plt.xticks(differences)\n",
        "plt.show()"
      ],
      "metadata": {
        "colab": {
          "base_uri": "https://localhost:8080/",
          "height": 564
        },
        "id": "KEnOTQhRpkM5",
        "outputId": "c79f35fd-0d00-4a1c-bb95-6a933490a966"
      },
      "execution_count": null,
      "outputs": [
        {
          "output_type": "display_data",
          "data": {
            "text/plain": [
              "<Figure size 1000x600 with 1 Axes>"
            ],
            "image/png": "[encoded data removed]"
          },
          "metadata": {}
        }
      ]
    },
    {
      "cell_type": "code",
      "source": [
        "output_dir = os.path.join(base_dir, \"RNN_ConcatenatedAudios2\") # Directory to save the new audio file\n",
        "pickle_file_path = os.path.join(output_dir, 'training_songs3.pkl')\n",
        "\n",
        "with open(pickle_file_path, 'wb') as f:\n",
        "  pickle.dump(np.array(training_songs3), f)\n",
        "  print()"
      ],
      "metadata": {
        "colab": {
          "base_uri": "https://localhost:8080/"
        },
        "id": "oZdx1EnIqJyY",
        "outputId": "cd8118fc-f85e-40ae-9277-344d14a54ddf"
      },
      "execution_count": null,
      "outputs": [
        {
          "output_type": "stream",
          "name": "stdout",
          "text": [
            "\n"
          ]
        }
      ]
    },
    {
      "cell_type": "code",
      "source": [
        "import pickle\n",
        "\n",
        "audio_path = '/content/drive/MyDrive/Pomona/ENGR208/AudioFiles/MedleyVox/RNN_ConcatenatedAudios2/training_songs3.pkl'\n",
        "\n",
        "# Open the file and load the objects\n",
        "with open(audio_path, 'rb') as file:\n",
        "    training_songs3 = pickle.load(file)"
      ],
      "metadata": {
        "id": "KsUTkZ2FiMkn"
      },
      "execution_count": null,
      "outputs": []
    },
    {
      "cell_type": "code",
      "source": [
        "correct = 0\n",
        "count = 0\n",
        "for song in training_songs3:\n",
        "  if song.num_singers == 2 and song.classification == 2:\n",
        "    correct += 1\n",
        "  if song.num_singers == 2:\n",
        "    count += 1\n",
        "\n",
        "print(correct / count * 100)"
      ],
      "metadata": {
        "colab": {
          "base_uri": "https://localhost:8080/"
        },
        "id": "hijdhPGXiSyu",
        "outputId": "e38606b4-c80a-403f-d322-d56f8a1421b2"
      },
      "execution_count": null,
      "outputs": [
        {
          "output_type": "stream",
          "name": "stdout",
          "text": [
            "45.16129032258064\n"
          ]
        }
      ]
    }
  ],
  "metadata": {
    "colab": {
      "provenance": [],
      "gpuType": "T4",
      "collapsed_sections": [
        "izGfcCiOwqMg",
        "fqQkJVYVlPoq",
        "xypFG_6erMiy",
        "BmRo5Tt-lbCI",
        "fS_NAZRy3Eq3"
      ]
    },
    "kernelspec": {
      "display_name": "Python 3",
      "name": "python3"
    },
    "language_info": {
      "name": "python"
    },
    "widgets": {
      "application/vnd.jupyter.widget-state+json": {
        "400b2663d407425fb6856edfe32c9db4": {
          "model_module": "@jupyter-widgets/controls",
          "model_name": "VBoxModel",
          "model_module_version": "1.5.0",
          "state": {
            "_dom_classes": [],
            "_model_module": "@jupyter-widgets/controls",
            "_model_module_version": "1.5.0",
            "_model_name": "VBoxModel",
            "_view_count": null,
            "_view_module": "@jupyter-widgets/controls",
            "_view_module_version": "1.5.0",
            "_view_name": "VBoxView",
            "box_style": "",
            "children": [
              "IPY_MODEL_f357574fad604ae4b47160123c85c6c6",
              "IPY_MODEL_1e4f702596ad4fb4bf102cee18562735",
              "IPY_MODEL_e7ec566f347547e2a6cde4aa785c10b2",
              "IPY_MODEL_a7891bbbefbb451faf87205ebbdeda14"
            ],
            "layout": "IPY_MODEL_7b55f5f22c7d4f7b890778f6d34f645e"
          }
        },
        "520ec4a8376f4750bf17d283f327d18b": {
          "model_module": "@jupyter-widgets/controls",
          "model_name": "HTMLModel",
          "model_module_version": "1.5.0",
          "state": {
            "_dom_classes": [],
            "_model_module": "@jupyter-widgets/controls",
            "_model_module_version": "1.5.0",
            "_model_name": "HTMLModel",
            "_view_count": null,
            "_view_module": "@jupyter-widgets/controls",
            "_view_module_version": "1.5.0",
            "_view_name": "HTMLView",
            "description": "",
            "description_tooltip": null,
            "layout": "IPY_MODEL_bdf85440f5be43ada7f7327478a27f74",
            "placeholder": "​",
            "style": "IPY_MODEL_43051be38bde4dbaa315b1795f6c3a5f",
            "value": "<center> <img\nsrc=https://huggingface.co/front/assets/huggingface_logo-noborder.svg\nalt='Hugging Face'> <br> Copy a token from <a\nhref=\"https://huggingface.co/settings/tokens\" target=\"_blank\">your Hugging Face\ntokens page</a> and paste it below. <br> Immediately click login after copying\nyour token or it might be stored in plain text in this notebook file. </center>"
          }
        },
        "783752b4b1c94c62848dd9ace477f7a5": {
          "model_module": "@jupyter-widgets/controls",
          "model_name": "PasswordModel",
          "model_module_version": "1.5.0",
          "state": {
            "_dom_classes": [],
            "_model_module": "@jupyter-widgets/controls",
            "_model_module_version": "1.5.0",
            "_model_name": "PasswordModel",
            "_view_count": null,
            "_view_module": "@jupyter-widgets/controls",
            "_view_module_version": "1.5.0",
            "_view_name": "PasswordView",
            "continuous_update": true,
            "description": "Token:",
            "description_tooltip": null,
            "disabled": false,
            "layout": "IPY_MODEL_4826f7ab97544d2491ca389bf20e1432",
            "placeholder": "​",
            "style": "IPY_MODEL_ef8e258ec8744cf785afe9836997ef25",
            "value": ""
          }
        },
        "689c5b9ec858441480dc93febe27296a": {
          "model_module": "@jupyter-widgets/controls",
          "model_name": "CheckboxModel",
          "model_module_version": "1.5.0",
          "state": {
            "_dom_classes": [],
            "_model_module": "@jupyter-widgets/controls",
            "_model_module_version": "1.5.0",
            "_model_name": "CheckboxModel",
            "_view_count": null,
            "_view_module": "@jupyter-widgets/controls",
            "_view_module_version": "1.5.0",
            "_view_name": "CheckboxView",
            "description": "Add token as git credential?",
            "description_tooltip": null,
            "disabled": false,
            "indent": true,
            "layout": "IPY_MODEL_e56df2d0ba9044679dc63ee40d7d90ba",
            "style": "IPY_MODEL_86c68372f0104fadbe1857a740bae2ef",
            "value": true
          }
        },
        "56205f471fa245e3a1bec5372eaee44d": {
          "model_module": "@jupyter-widgets/controls",
          "model_name": "ButtonModel",
          "model_module_version": "1.5.0",
          "state": {
            "_dom_classes": [],
            "_model_module": "@jupyter-widgets/controls",
            "_model_module_version": "1.5.0",
            "_model_name": "ButtonModel",
            "_view_count": null,
            "_view_module": "@jupyter-widgets/controls",
            "_view_module_version": "1.5.0",
            "_view_name": "ButtonView",
            "button_style": "",
            "description": "Login",
            "disabled": false,
            "icon": "",
            "layout": "IPY_MODEL_8339591b210b47ee8cb80171ebf7fea1",
            "style": "IPY_MODEL_f5332d7e58d74d2db5e0adeba4ae301b",
            "tooltip": ""
          }
        },
        "e0fca0b0a3644919b6592c8121e63d80": {
          "model_module": "@jupyter-widgets/controls",
          "model_name": "HTMLModel",
          "model_module_version": "1.5.0",
          "state": {
            "_dom_classes": [],
            "_model_module": "@jupyter-widgets/controls",
            "_model_module_version": "1.5.0",
            "_model_name": "HTMLModel",
            "_view_count": null,
            "_view_module": "@jupyter-widgets/controls",
            "_view_module_version": "1.5.0",
            "_view_name": "HTMLView",
            "description": "",
            "description_tooltip": null,
            "layout": "IPY_MODEL_0409feca6d364d4bb3315d91497a2e58",
            "placeholder": "​",
            "style": "IPY_MODEL_c309831c219c4fb587a2b44716dec86e",
            "value": "\n<b>Pro Tip:</b> If you don't already have one, you can create a dedicated\n'notebooks' token with 'write' access, that you can then easily reuse for all\nnotebooks. </center>"
          }
        },
        "7b55f5f22c7d4f7b890778f6d34f645e": {
          "model_module": "@jupyter-widgets/base",
          "model_name": "LayoutModel",
          "model_module_version": "1.2.0",
          "state": {
            "_model_module": "@jupyter-widgets/base",
            "_model_module_version": "1.2.0",
            "_model_name": "LayoutModel",
            "_view_count": null,
            "_view_module": "@jupyter-widgets/base",
            "_view_module_version": "1.2.0",
            "_view_name": "LayoutView",
            "align_content": null,
            "align_items": "center",
            "align_self": null,
            "border": null,
            "bottom": null,
            "display": "flex",
            "flex": null,
            "flex_flow": "column",
            "grid_area": null,
            "grid_auto_columns": null,
            "grid_auto_flow": null,
            "grid_auto_rows": null,
            "grid_column": null,
            "grid_gap": null,
            "grid_row": null,
            "grid_template_areas": null,
            "grid_template_columns": null,
            "grid_template_rows": null,
            "height": null,
            "justify_content": null,
            "justify_items": null,
            "left": null,
            "margin": null,
            "max_height": null,
            "max_width": null,
            "min_height": null,
            "min_width": null,
            "object_fit": null,
            "object_position": null,
            "order": null,
            "overflow": null,
            "overflow_x": null,
            "overflow_y": null,
            "padding": null,
            "right": null,
            "top": null,
            "visibility": null,
            "width": "50%"
          }
        },
        "bdf85440f5be43ada7f7327478a27f74": {
          "model_module": "@jupyter-widgets/base",
          "model_name": "LayoutModel",
          "model_module_version": "1.2.0",
          "state": {
            "_model_module": "@jupyter-widgets/base",
            "_model_module_version": "1.2.0",
            "_model_name": "LayoutModel",
            "_view_count": null,
            "_view_module": "@jupyter-widgets/base",
            "_view_module_version": "1.2.0",
            "_view_name": "LayoutView",
            "align_content": null,
            "align_items": null,
            "align_self": null,
            "border": null,
            "bottom": null,
            "display": null,
            "flex": null,
            "flex_flow": null,
            "grid_area": null,
            "grid_auto_columns": null,
            "grid_auto_flow": null,
            "grid_auto_rows": null,
            "grid_column": null,
            "grid_gap": null,
            "grid_row": null,
            "grid_template_areas": null,
            "grid_template_columns": null,
            "grid_template_rows": null,
            "height": null,
            "justify_content": null,
            "justify_items": null,
            "left": null,
            "margin": null,
            "max_height": null,
            "max_width": null,
            "min_height": null,
            "min_width": null,
            "object_fit": null,
            "object_position": null,
            "order": null,
            "overflow": null,
            "overflow_x": null,
            "overflow_y": null,
            "padding": null,
            "right": null,
            "top": null,
            "visibility": null,
            "width": null
          }
        },
        "43051be38bde4dbaa315b1795f6c3a5f": {
          "model_module": "@jupyter-widgets/controls",
          "model_name": "DescriptionStyleModel",
          "model_module_version": "1.5.0",
          "state": {
            "_model_module": "@jupyter-widgets/controls",
            "_model_module_version": "1.5.0",
            "_model_name": "DescriptionStyleModel",
            "_view_count": null,
            "_view_module": "@jupyter-widgets/base",
            "_view_module_version": "1.2.0",
            "_view_name": "StyleView",
            "description_width": ""
          }
        },
        "4826f7ab97544d2491ca389bf20e1432": {
          "model_module": "@jupyter-widgets/base",
          "model_name": "LayoutModel",
          "model_module_version": "1.2.0",
          "state": {
            "_model_module": "@jupyter-widgets/base",
            "_model_module_version": "1.2.0",
            "_model_name": "LayoutModel",
            "_view_count": null,
            "_view_module": "@jupyter-widgets/base",
            "_view_module_version": "1.2.0",
            "_view_name": "LayoutView",
            "align_content": null,
            "align_items": null,
            "align_self": null,
            "border": null,
            "bottom": null,
            "display": null,
            "flex": null,
            "flex_flow": null,
            "grid_area": null,
            "grid_auto_columns": null,
            "grid_auto_flow": null,
            "grid_auto_rows": null,
            "grid_column": null,
            "grid_gap": null,
            "grid_row": null,
            "grid_template_areas": null,
            "grid_template_columns": null,
            "grid_template_rows": null,
            "height": null,
            "justify_content": null,
            "justify_items": null,
            "left": null,
            "margin": null,
            "max_height": null,
            "max_width": null,
            "min_height": null,
            "min_width": null,
            "object_fit": null,
            "object_position": null,
            "order": null,
            "overflow": null,
            "overflow_x": null,
            "overflow_y": null,
            "padding": null,
            "right": null,
            "top": null,
            "visibility": null,
            "width": null
          }
        },
        "ef8e258ec8744cf785afe9836997ef25": {
          "model_module": "@jupyter-widgets/controls",
          "model_name": "DescriptionStyleModel",
          "model_module_version": "1.5.0",
          "state": {
            "_model_module": "@jupyter-widgets/controls",
            "_model_module_version": "1.5.0",
            "_model_name": "DescriptionStyleModel",
            "_view_count": null,
            "_view_module": "@jupyter-widgets/base",
            "_view_module_version": "1.2.0",
            "_view_name": "StyleView",
            "description_width": ""
          }
        },
        "e56df2d0ba9044679dc63ee40d7d90ba": {
          "model_module": "@jupyter-widgets/base",
          "model_name": "LayoutModel",
          "model_module_version": "1.2.0",
          "state": {
            "_model_module": "@jupyter-widgets/base",
            "_model_module_version": "1.2.0",
            "_model_name": "LayoutModel",
            "_view_count": null,
            "_view_module": "@jupyter-widgets/base",
            "_view_module_version": "1.2.0",
            "_view_name": "LayoutView",
            "align_content": null,
            "align_items": null,
            "align_self": null,
            "border": null,
            "bottom": null,
            "display": null,
            "flex": null,
            "flex_flow": null,
            "grid_area": null,
            "grid_auto_columns": null,
            "grid_auto_flow": null,
            "grid_auto_rows": null,
            "grid_column": null,
            "grid_gap": null,
            "grid_row": null,
            "grid_template_areas": null,
            "grid_template_columns": null,
            "grid_template_rows": null,
            "height": null,
            "justify_content": null,
            "justify_items": null,
            "left": null,
            "margin": null,
            "max_height": null,
            "max_width": null,
            "min_height": null,
            "min_width": null,
            "object_fit": null,
            "object_position": null,
            "order": null,
            "overflow": null,
            "overflow_x": null,
            "overflow_y": null,
            "padding": null,
            "right": null,
            "top": null,
            "visibility": null,
            "width": null
          }
        },
        "86c68372f0104fadbe1857a740bae2ef": {
          "model_module": "@jupyter-widgets/controls",
          "model_name": "DescriptionStyleModel",
          "model_module_version": "1.5.0",
          "state": {
            "_model_module": "@jupyter-widgets/controls",
            "_model_module_version": "1.5.0",
            "_model_name": "DescriptionStyleModel",
            "_view_count": null,
            "_view_module": "@jupyter-widgets/base",
            "_view_module_version": "1.2.0",
            "_view_name": "StyleView",
            "description_width": ""
          }
        },
        "8339591b210b47ee8cb80171ebf7fea1": {
          "model_module": "@jupyter-widgets/base",
          "model_name": "LayoutModel",
          "model_module_version": "1.2.0",
          "state": {
            "_model_module": "@jupyter-widgets/base",
            "_model_module_version": "1.2.0",
            "_model_name": "LayoutModel",
            "_view_count": null,
            "_view_module": "@jupyter-widgets/base",
            "_view_module_version": "1.2.0",
            "_view_name": "LayoutView",
            "align_content": null,
            "align_items": null,
            "align_self": null,
            "border": null,
            "bottom": null,
            "display": null,
            "flex": null,
            "flex_flow": null,
            "grid_area": null,
            "grid_auto_columns": null,
            "grid_auto_flow": null,
            "grid_auto_rows": null,
            "grid_column": null,
            "grid_gap": null,
            "grid_row": null,
            "grid_template_areas": null,
            "grid_template_columns": null,
            "grid_template_rows": null,
            "height": null,
            "justify_content": null,
            "justify_items": null,
            "left": null,
            "margin": null,
            "max_height": null,
            "max_width": null,
            "min_height": null,
            "min_width": null,
            "object_fit": null,
            "object_position": null,
            "order": null,
            "overflow": null,
            "overflow_x": null,
            "overflow_y": null,
            "padding": null,
            "right": null,
            "top": null,
            "visibility": null,
            "width": null
          }
        },
        "f5332d7e58d74d2db5e0adeba4ae301b": {
          "model_module": "@jupyter-widgets/controls",
          "model_name": "ButtonStyleModel",
          "model_module_version": "1.5.0",
          "state": {
            "_model_module": "@jupyter-widgets/controls",
            "_model_module_version": "1.5.0",
            "_model_name": "ButtonStyleModel",
            "_view_count": null,
            "_view_module": "@jupyter-widgets/base",
            "_view_module_version": "1.2.0",
            "_view_name": "StyleView",
            "button_color": null,
            "font_weight": ""
          }
        },
        "0409feca6d364d4bb3315d91497a2e58": {
          "model_module": "@jupyter-widgets/base",
          "model_name": "LayoutModel",
          "model_module_version": "1.2.0",
          "state": {
            "_model_module": "@jupyter-widgets/base",
            "_model_module_version": "1.2.0",
            "_model_name": "LayoutModel",
            "_view_count": null,
            "_view_module": "@jupyter-widgets/base",
            "_view_module_version": "1.2.0",
            "_view_name": "LayoutView",
            "align_content": null,
            "align_items": null,
            "align_self": null,
            "border": null,
            "bottom": null,
            "display": null,
            "flex": null,
            "flex_flow": null,
            "grid_area": null,
            "grid_auto_columns": null,
            "grid_auto_flow": null,
            "grid_auto_rows": null,
            "grid_column": null,
            "grid_gap": null,
            "grid_row": null,
            "grid_template_areas": null,
            "grid_template_columns": null,
            "grid_template_rows": null,
            "height": null,
            "justify_content": null,
            "justify_items": null,
            "left": null,
            "margin": null,
            "max_height": null,
            "max_width": null,
            "min_height": null,
            "min_width": null,
            "object_fit": null,
            "object_position": null,
            "order": null,
            "overflow": null,
            "overflow_x": null,
            "overflow_y": null,
            "padding": null,
            "right": null,
            "top": null,
            "visibility": null,
            "width": null
          }
        },
        "c309831c219c4fb587a2b44716dec86e": {
          "model_module": "@jupyter-widgets/controls",
          "model_name": "DescriptionStyleModel",
          "model_module_version": "1.5.0",
          "state": {
            "_model_module": "@jupyter-widgets/controls",
            "_model_module_version": "1.5.0",
            "_model_name": "DescriptionStyleModel",
            "_view_count": null,
            "_view_module": "@jupyter-widgets/base",
            "_view_module_version": "1.2.0",
            "_view_name": "StyleView",
            "description_width": ""
          }
        },
        "d8e4ca4cbe16402a924a23c98a2e76c6": {
          "model_module": "@jupyter-widgets/controls",
          "model_name": "LabelModel",
          "model_module_version": "1.5.0",
          "state": {
            "_dom_classes": [],
            "_model_module": "@jupyter-widgets/controls",
            "_model_module_version": "1.5.0",
            "_model_name": "LabelModel",
            "_view_count": null,
            "_view_module": "@jupyter-widgets/controls",
            "_view_module_version": "1.5.0",
            "_view_name": "LabelView",
            "description": "",
            "description_tooltip": null,
            "layout": "IPY_MODEL_d0f57606d21b45f4b3c802c0b7421487",
            "placeholder": "​",
            "style": "IPY_MODEL_1a5b37ae02ec4e29be09e41ecf2ad8ac",
            "value": "Connecting..."
          }
        },
        "d0f57606d21b45f4b3c802c0b7421487": {
          "model_module": "@jupyter-widgets/base",
          "model_name": "LayoutModel",
          "model_module_version": "1.2.0",
          "state": {
            "_model_module": "@jupyter-widgets/base",
            "_model_module_version": "1.2.0",
            "_model_name": "LayoutModel",
            "_view_count": null,
            "_view_module": "@jupyter-widgets/base",
            "_view_module_version": "1.2.0",
            "_view_name": "LayoutView",
            "align_content": null,
            "align_items": null,
            "align_self": null,
            "border": null,
            "bottom": null,
            "display": null,
            "flex": null,
            "flex_flow": null,
            "grid_area": null,
            "grid_auto_columns": null,
            "grid_auto_flow": null,
            "grid_auto_rows": null,
            "grid_column": null,
            "grid_gap": null,
            "grid_row": null,
            "grid_template_areas": null,
            "grid_template_columns": null,
            "grid_template_rows": null,
            "height": null,
            "justify_content": null,
            "justify_items": null,
            "left": null,
            "margin": null,
            "max_height": null,
            "max_width": null,
            "min_height": null,
            "min_width": null,
            "object_fit": null,
            "object_position": null,
            "order": null,
            "overflow": null,
            "overflow_x": null,
            "overflow_y": null,
            "padding": null,
            "right": null,
            "top": null,
            "visibility": null,
            "width": null
          }
        },
        "1a5b37ae02ec4e29be09e41ecf2ad8ac": {
          "model_module": "@jupyter-widgets/controls",
          "model_name": "DescriptionStyleModel",
          "model_module_version": "1.5.0",
          "state": {
            "_model_module": "@jupyter-widgets/controls",
            "_model_module_version": "1.5.0",
            "_model_name": "DescriptionStyleModel",
            "_view_count": null,
            "_view_module": "@jupyter-widgets/base",
            "_view_module_version": "1.2.0",
            "_view_name": "StyleView",
            "description_width": ""
          }
        },
        "f357574fad604ae4b47160123c85c6c6": {
          "model_module": "@jupyter-widgets/controls",
          "model_name": "LabelModel",
          "model_module_version": "1.5.0",
          "state": {
            "_dom_classes": [],
            "_model_module": "@jupyter-widgets/controls",
            "_model_module_version": "1.5.0",
            "_model_name": "LabelModel",
            "_view_count": null,
            "_view_module": "@jupyter-widgets/controls",
            "_view_module_version": "1.5.0",
            "_view_name": "LabelView",
            "description": "",
            "description_tooltip": null,
            "layout": "IPY_MODEL_450f7d0561d14ab2aba2349515c94138",
            "placeholder": "​",
            "style": "IPY_MODEL_1324615b30114107b26b8d78e6858609",
            "value": "Token is valid (permission: read)."
          }
        },
        "1e4f702596ad4fb4bf102cee18562735": {
          "model_module": "@jupyter-widgets/controls",
          "model_name": "LabelModel",
          "model_module_version": "1.5.0",
          "state": {
            "_dom_classes": [],
            "_model_module": "@jupyter-widgets/controls",
            "_model_module_version": "1.5.0",
            "_model_name": "LabelModel",
            "_view_count": null,
            "_view_module": "@jupyter-widgets/controls",
            "_view_module_version": "1.5.0",
            "_view_name": "LabelView",
            "description": "",
            "description_tooltip": null,
            "layout": "IPY_MODEL_c03a12c644294556893f319dbd55db32",
            "placeholder": "​",
            "style": "IPY_MODEL_bc40d88b015143809e6e12d7904238cf",
            "value": "Your token has been saved in your configured git credential helpers (store)."
          }
        },
        "e7ec566f347547e2a6cde4aa785c10b2": {
          "model_module": "@jupyter-widgets/controls",
          "model_name": "LabelModel",
          "model_module_version": "1.5.0",
          "state": {
            "_dom_classes": [],
            "_model_module": "@jupyter-widgets/controls",
            "_model_module_version": "1.5.0",
            "_model_name": "LabelModel",
            "_view_count": null,
            "_view_module": "@jupyter-widgets/controls",
            "_view_module_version": "1.5.0",
            "_view_name": "LabelView",
            "description": "",
            "description_tooltip": null,
            "layout": "IPY_MODEL_08ddb47fa5f448bba6305ed9dc500187",
            "placeholder": "​",
            "style": "IPY_MODEL_9bf8cd1d945045bb848878ce14d8b99b",
            "value": "Your token has been saved to /root/.cache/huggingface/token"
          }
        },
        "a7891bbbefbb451faf87205ebbdeda14": {
          "model_module": "@jupyter-widgets/controls",
          "model_name": "LabelModel",
          "model_module_version": "1.5.0",
          "state": {
            "_dom_classes": [],
            "_model_module": "@jupyter-widgets/controls",
            "_model_module_version": "1.5.0",
            "_model_name": "LabelModel",
            "_view_count": null,
            "_view_module": "@jupyter-widgets/controls",
            "_view_module_version": "1.5.0",
            "_view_name": "LabelView",
            "description": "",
            "description_tooltip": null,
            "layout": "IPY_MODEL_3ca197181ead4d1aa8255700d1cf76c6",
            "placeholder": "​",
            "style": "IPY_MODEL_cb3ade9668954b9baae6d8f68080b10e",
            "value": "Login successful"
          }
        },
        "450f7d0561d14ab2aba2349515c94138": {
          "model_module": "@jupyter-widgets/base",
          "model_name": "LayoutModel",
          "model_module_version": "1.2.0",
          "state": {
            "_model_module": "@jupyter-widgets/base",
            "_model_module_version": "1.2.0",
            "_model_name": "LayoutModel",
            "_view_count": null,
            "_view_module": "@jupyter-widgets/base",
            "_view_module_version": "1.2.0",
            "_view_name": "LayoutView",
            "align_content": null,
            "align_items": null,
            "align_self": null,
            "border": null,
            "bottom": null,
            "display": null,
            "flex": null,
            "flex_flow": null,
            "grid_area": null,
            "grid_auto_columns": null,
            "grid_auto_flow": null,
            "grid_auto_rows": null,
            "grid_column": null,
            "grid_gap": null,
            "grid_row": null,
            "grid_template_areas": null,
            "grid_template_columns": null,
            "grid_template_rows": null,
            "height": null,
            "justify_content": null,
            "justify_items": null,
            "left": null,
            "margin": null,
            "max_height": null,
            "max_width": null,
            "min_height": null,
            "min_width": null,
            "object_fit": null,
            "object_position": null,
            "order": null,
            "overflow": null,
            "overflow_x": null,
            "overflow_y": null,
            "padding": null,
            "right": null,
            "top": null,
            "visibility": null,
            "width": null
          }
        },
        "1324615b30114107b26b8d78e6858609": {
          "model_module": "@jupyter-widgets/controls",
          "model_name": "DescriptionStyleModel",
          "model_module_version": "1.5.0",
          "state": {
            "_model_module": "@jupyter-widgets/controls",
            "_model_module_version": "1.5.0",
            "_model_name": "DescriptionStyleModel",
            "_view_count": null,
            "_view_module": "@jupyter-widgets/base",
            "_view_module_version": "1.2.0",
            "_view_name": "StyleView",
            "description_width": ""
          }
        },
        "c03a12c644294556893f319dbd55db32": {
          "model_module": "@jupyter-widgets/base",
          "model_name": "LayoutModel",
          "model_module_version": "1.2.0",
          "state": {
            "_model_module": "@jupyter-widgets/base",
            "_model_module_version": "1.2.0",
            "_model_name": "LayoutModel",
            "_view_count": null,
            "_view_module": "@jupyter-widgets/base",
            "_view_module_version": "1.2.0",
            "_view_name": "LayoutView",
            "align_content": null,
            "align_items": null,
            "align_self": null,
            "border": null,
            "bottom": null,
            "display": null,
            "flex": null,
            "flex_flow": null,
            "grid_area": null,
            "grid_auto_columns": null,
            "grid_auto_flow": null,
            "grid_auto_rows": null,
            "grid_column": null,
            "grid_gap": null,
            "grid_row": null,
            "grid_template_areas": null,
            "grid_template_columns": null,
            "grid_template_rows": null,
            "height": null,
            "justify_content": null,
            "justify_items": null,
            "left": null,
            "margin": null,
            "max_height": null,
            "max_width": null,
            "min_height": null,
            "min_width": null,
            "object_fit": null,
            "object_position": null,
            "order": null,
            "overflow": null,
            "overflow_x": null,
            "overflow_y": null,
            "padding": null,
            "right": null,
            "top": null,
            "visibility": null,
            "width": null
          }
        },
        "bc40d88b015143809e6e12d7904238cf": {
          "model_module": "@jupyter-widgets/controls",
          "model_name": "DescriptionStyleModel",
          "model_module_version": "1.5.0",
          "state": {
            "_model_module": "@jupyter-widgets/controls",
            "_model_module_version": "1.5.0",
            "_model_name": "DescriptionStyleModel",
            "_view_count": null,
            "_view_module": "@jupyter-widgets/base",
            "_view_module_version": "1.2.0",
            "_view_name": "StyleView",
            "description_width": ""
          }
        },
        "08ddb47fa5f448bba6305ed9dc500187": {
          "model_module": "@jupyter-widgets/base",
          "model_name": "LayoutModel",
          "model_module_version": "1.2.0",
          "state": {
            "_model_module": "@jupyter-widgets/base",
            "_model_module_version": "1.2.0",
            "_model_name": "LayoutModel",
            "_view_count": null,
            "_view_module": "@jupyter-widgets/base",
            "_view_module_version": "1.2.0",
            "_view_name": "LayoutView",
            "align_content": null,
            "align_items": null,
            "align_self": null,
            "border": null,
            "bottom": null,
            "display": null,
            "flex": null,
            "flex_flow": null,
            "grid_area": null,
            "grid_auto_columns": null,
            "grid_auto_flow": null,
            "grid_auto_rows": null,
            "grid_column": null,
            "grid_gap": null,
            "grid_row": null,
            "grid_template_areas": null,
            "grid_template_columns": null,
            "grid_template_rows": null,
            "height": null,
            "justify_content": null,
            "justify_items": null,
            "left": null,
            "margin": null,
            "max_height": null,
            "max_width": null,
            "min_height": null,
            "min_width": null,
            "object_fit": null,
            "object_position": null,
            "order": null,
            "overflow": null,
            "overflow_x": null,
            "overflow_y": null,
            "padding": null,
            "right": null,
            "top": null,
            "visibility": null,
            "width": null
          }
        },
        "9bf8cd1d945045bb848878ce14d8b99b": {
          "model_module": "@jupyter-widgets/controls",
          "model_name": "DescriptionStyleModel",
          "model_module_version": "1.5.0",
          "state": {
            "_model_module": "@jupyter-widgets/controls",
            "_model_module_version": "1.5.0",
            "_model_name": "DescriptionStyleModel",
            "_view_count": null,
            "_view_module": "@jupyter-widgets/base",
            "_view_module_version": "1.2.0",
            "_view_name": "StyleView",
            "description_width": ""
          }
        },
        "3ca197181ead4d1aa8255700d1cf76c6": {
          "model_module": "@jupyter-widgets/base",
          "model_name": "LayoutModel",
          "model_module_version": "1.2.0",
          "state": {
            "_model_module": "@jupyter-widgets/base",
            "_model_module_version": "1.2.0",
            "_model_name": "LayoutModel",
            "_view_count": null,
            "_view_module": "@jupyter-widgets/base",
            "_view_module_version": "1.2.0",
            "_view_name": "LayoutView",
            "align_content": null,
            "align_items": null,
            "align_self": null,
            "border": null,
            "bottom": null,
            "display": null,
            "flex": null,
            "flex_flow": null,
            "grid_area": null,
            "grid_auto_columns": null,
            "grid_auto_flow": null,
            "grid_auto_rows": null,
            "grid_column": null,
            "grid_gap": null,
            "grid_row": null,
            "grid_template_areas": null,
            "grid_template_columns": null,
            "grid_template_rows": null,
            "height": null,
            "justify_content": null,
            "justify_items": null,
            "left": null,
            "margin": null,
            "max_height": null,
            "max_width": null,
            "min_height": null,
            "min_width": null,
            "object_fit": null,
            "object_position": null,
            "order": null,
            "overflow": null,
            "overflow_x": null,
            "overflow_y": null,
            "padding": null,
            "right": null,
            "top": null,
            "visibility": null,
            "width": null
          }
        },
        "cb3ade9668954b9baae6d8f68080b10e": {
          "model_module": "@jupyter-widgets/controls",
          "model_name": "DescriptionStyleModel",
          "model_module_version": "1.5.0",
          "state": {
            "_model_module": "@jupyter-widgets/controls",
            "_model_module_version": "1.5.0",
            "_model_name": "DescriptionStyleModel",
            "_view_count": null,
            "_view_module": "@jupyter-widgets/base",
            "_view_module_version": "1.2.0",
            "_view_name": "StyleView",
            "description_width": ""
          }
        },
        "39e1510863a3406c9e960cac382ac314": {
          "model_module": "@jupyter-widgets/controls",
          "model_name": "HBoxModel",
          "model_module_version": "1.5.0",
          "state": {
            "_dom_classes": [],
            "_model_module": "@jupyter-widgets/controls",
            "_model_module_version": "1.5.0",
            "_model_name": "HBoxModel",
            "_view_count": null,
            "_view_module": "@jupyter-widgets/controls",
            "_view_module_version": "1.5.0",
            "_view_name": "HBoxView",
            "box_style": "",
            "children": [
              "IPY_MODEL_97d4cfdb2c9443b883eedbf002ceadf7",
              "IPY_MODEL_de8ed15498804d5f815c991ca45e961f",
              "IPY_MODEL_8cf5a0baeb9544028cf4471320756f55"
            ],
            "layout": "IPY_MODEL_519b090ef89041aeada345478ac2b3f6"
          }
        },
        "97d4cfdb2c9443b883eedbf002ceadf7": {
          "model_module": "@jupyter-widgets/controls",
          "model_name": "HTMLModel",
          "model_module_version": "1.5.0",
          "state": {
            "_dom_classes": [],
            "_model_module": "@jupyter-widgets/controls",
            "_model_module_version": "1.5.0",
            "_model_name": "HTMLModel",
            "_view_count": null,
            "_view_module": "@jupyter-widgets/controls",
            "_view_module_version": "1.5.0",
            "_view_name": "HTMLView",
            "description": "",
            "description_tooltip": null,
            "layout": "IPY_MODEL_a0cd2eccb1244309a2b24616842305da",
            "placeholder": "​",
            "style": "IPY_MODEL_820e04bd7af341ed96e98235336f9053",
            "value": "hyperparams.yaml: 100%"
          }
        },
        "de8ed15498804d5f815c991ca45e961f": {
          "model_module": "@jupyter-widgets/controls",
          "model_name": "FloatProgressModel",
          "model_module_version": "1.5.0",
          "state": {
            "_dom_classes": [],
            "_model_module": "@jupyter-widgets/controls",
            "_model_module_version": "1.5.0",
            "_model_name": "FloatProgressModel",
            "_view_count": null,
            "_view_module": "@jupyter-widgets/controls",
            "_view_module_version": "1.5.0",
            "_view_name": "ProgressView",
            "bar_style": "success",
            "description": "",
            "description_tooltip": null,
            "layout": "IPY_MODEL_fc1b9744868746999ff8b53ee17cfff5",
            "max": 2041,
            "min": 0,
            "orientation": "horizontal",
            "style": "IPY_MODEL_2f52bb70a88f42688aff24b66d9413da",
            "value": 2041
          }
        },
        "8cf5a0baeb9544028cf4471320756f55": {
          "model_module": "@jupyter-widgets/controls",
          "model_name": "HTMLModel",
          "model_module_version": "1.5.0",
          "state": {
            "_dom_classes": [],
            "_model_module": "@jupyter-widgets/controls",
            "_model_module_version": "1.5.0",
            "_model_name": "HTMLModel",
            "_view_count": null,
            "_view_module": "@jupyter-widgets/controls",
            "_view_module_version": "1.5.0",
            "_view_name": "HTMLView",
            "description": "",
            "description_tooltip": null,
            "layout": "IPY_MODEL_e82e4d23b0e14af0afcc845205501646",
            "placeholder": "​",
            "style": "IPY_MODEL_0320494e9f2c42c3b9c5c7532edbde3b",
            "value": " 2.04k/2.04k [00:00&lt;00:00, 98.3kB/s]"
          }
        },
        "519b090ef89041aeada345478ac2b3f6": {
          "model_module": "@jupyter-widgets/base",
          "model_name": "LayoutModel",
          "model_module_version": "1.2.0",
          "state": {
            "_model_module": "@jupyter-widgets/base",
            "_model_module_version": "1.2.0",
            "_model_name": "LayoutModel",
            "_view_count": null,
            "_view_module": "@jupyter-widgets/base",
            "_view_module_version": "1.2.0",
            "_view_name": "LayoutView",
            "align_content": null,
            "align_items": null,
            "align_self": null,
            "border": null,
            "bottom": null,
            "display": null,
            "flex": null,
            "flex_flow": null,
            "grid_area": null,
            "grid_auto_columns": null,
            "grid_auto_flow": null,
            "grid_auto_rows": null,
            "grid_column": null,
            "grid_gap": null,
            "grid_row": null,
            "grid_template_areas": null,
            "grid_template_columns": null,
            "grid_template_rows": null,
            "height": null,
            "justify_content": null,
            "justify_items": null,
            "left": null,
            "margin": null,
            "max_height": null,
            "max_width": null,
            "min_height": null,
            "min_width": null,
            "object_fit": null,
            "object_position": null,
            "order": null,
            "overflow": null,
            "overflow_x": null,
            "overflow_y": null,
            "padding": null,
            "right": null,
            "top": null,
            "visibility": null,
            "width": null
          }
        },
        "a0cd2eccb1244309a2b24616842305da": {
          "model_module": "@jupyter-widgets/base",
          "model_name": "LayoutModel",
          "model_module_version": "1.2.0",
          "state": {
            "_model_module": "@jupyter-widgets/base",
            "_model_module_version": "1.2.0",
            "_model_name": "LayoutModel",
            "_view_count": null,
            "_view_module": "@jupyter-widgets/base",
            "_view_module_version": "1.2.0",
            "_view_name": "LayoutView",
            "align_content": null,
            "align_items": null,
            "align_self": null,
            "border": null,
            "bottom": null,
            "display": null,
            "flex": null,
            "flex_flow": null,
            "grid_area": null,
            "grid_auto_columns": null,
            "grid_auto_flow": null,
            "grid_auto_rows": null,
            "grid_column": null,
            "grid_gap": null,
            "grid_row": null,
            "grid_template_areas": null,
            "grid_template_columns": null,
            "grid_template_rows": null,
            "height": null,
            "justify_content": null,
            "justify_items": null,
            "left": null,
            "margin": null,
            "max_height": null,
            "max_width": null,
            "min_height": null,
            "min_width": null,
            "object_fit": null,
            "object_position": null,
            "order": null,
            "overflow": null,
            "overflow_x": null,
            "overflow_y": null,
            "padding": null,
            "right": null,
            "top": null,
            "visibility": null,
            "width": null
          }
        },
        "820e04bd7af341ed96e98235336f9053": {
          "model_module": "@jupyter-widgets/controls",
          "model_name": "DescriptionStyleModel",
          "model_module_version": "1.5.0",
          "state": {
            "_model_module": "@jupyter-widgets/controls",
            "_model_module_version": "1.5.0",
            "_model_name": "DescriptionStyleModel",
            "_view_count": null,
            "_view_module": "@jupyter-widgets/base",
            "_view_module_version": "1.2.0",
            "_view_name": "StyleView",
            "description_width": ""
          }
        },
        "fc1b9744868746999ff8b53ee17cfff5": {
          "model_module": "@jupyter-widgets/base",
          "model_name": "LayoutModel",
          "model_module_version": "1.2.0",
          "state": {
            "_model_module": "@jupyter-widgets/base",
            "_model_module_version": "1.2.0",
            "_model_name": "LayoutModel",
            "_view_count": null,
            "_view_module": "@jupyter-widgets/base",
            "_view_module_version": "1.2.0",
            "_view_name": "LayoutView",
            "align_content": null,
            "align_items": null,
            "align_self": null,
            "border": null,
            "bottom": null,
            "display": null,
            "flex": null,
            "flex_flow": null,
            "grid_area": null,
            "grid_auto_columns": null,
            "grid_auto_flow": null,
            "grid_auto_rows": null,
            "grid_column": null,
            "grid_gap": null,
            "grid_row": null,
            "grid_template_areas": null,
            "grid_template_columns": null,
            "grid_template_rows": null,
            "height": null,
            "justify_content": null,
            "justify_items": null,
            "left": null,
            "margin": null,
            "max_height": null,
            "max_width": null,
            "min_height": null,
            "min_width": null,
            "object_fit": null,
            "object_position": null,
            "order": null,
            "overflow": null,
            "overflow_x": null,
            "overflow_y": null,
            "padding": null,
            "right": null,
            "top": null,
            "visibility": null,
            "width": null
          }
        },
        "2f52bb70a88f42688aff24b66d9413da": {
          "model_module": "@jupyter-widgets/controls",
          "model_name": "ProgressStyleModel",
          "model_module_version": "1.5.0",
          "state": {
            "_model_module": "@jupyter-widgets/controls",
            "_model_module_version": "1.5.0",
            "_model_name": "ProgressStyleModel",
            "_view_count": null,
            "_view_module": "@jupyter-widgets/base",
            "_view_module_version": "1.2.0",
            "_view_name": "StyleView",
            "bar_color": null,
            "description_width": ""
          }
        },
        "e82e4d23b0e14af0afcc845205501646": {
          "model_module": "@jupyter-widgets/base",
          "model_name": "LayoutModel",
          "model_module_version": "1.2.0",
          "state": {
            "_model_module": "@jupyter-widgets/base",
            "_model_module_version": "1.2.0",
            "_model_name": "LayoutModel",
            "_view_count": null,
            "_view_module": "@jupyter-widgets/base",
            "_view_module_version": "1.2.0",
            "_view_name": "LayoutView",
            "align_content": null,
            "align_items": null,
            "align_self": null,
            "border": null,
            "bottom": null,
            "display": null,
            "flex": null,
            "flex_flow": null,
            "grid_area": null,
            "grid_auto_columns": null,
            "grid_auto_flow": null,
            "grid_auto_rows": null,
            "grid_column": null,
            "grid_gap": null,
            "grid_row": null,
            "grid_template_areas": null,
            "grid_template_columns": null,
            "grid_template_rows": null,
            "height": null,
            "justify_content": null,
            "justify_items": null,
            "left": null,
            "margin": null,
            "max_height": null,
            "max_width": null,
            "min_height": null,
            "min_width": null,
            "object_fit": null,
            "object_position": null,
            "order": null,
            "overflow": null,
            "overflow_x": null,
            "overflow_y": null,
            "padding": null,
            "right": null,
            "top": null,
            "visibility": null,
            "width": null
          }
        },
        "0320494e9f2c42c3b9c5c7532edbde3b": {
          "model_module": "@jupyter-widgets/controls",
          "model_name": "DescriptionStyleModel",
          "model_module_version": "1.5.0",
          "state": {
            "_model_module": "@jupyter-widgets/controls",
            "_model_module_version": "1.5.0",
            "_model_name": "DescriptionStyleModel",
            "_view_count": null,
            "_view_module": "@jupyter-widgets/base",
            "_view_module_version": "1.2.0",
            "_view_name": "StyleView",
            "description_width": ""
          }
        },
        "b4c8a29946494bb38c05fd1496423488": {
          "model_module": "@jupyter-widgets/controls",
          "model_name": "HBoxModel",
          "model_module_version": "1.5.0",
          "state": {
            "_dom_classes": [],
            "_model_module": "@jupyter-widgets/controls",
            "_model_module_version": "1.5.0",
            "_model_name": "HBoxModel",
            "_view_count": null,
            "_view_module": "@jupyter-widgets/controls",
            "_view_module_version": "1.5.0",
            "_view_name": "HBoxView",
            "box_style": "",
            "children": [
              "IPY_MODEL_e77b9a91c4bd46e1bcbebea1a1a58ed9",
              "IPY_MODEL_92c543100502475486b0691588417310",
              "IPY_MODEL_f1ca4037a0ca48169a5cae930d552e16"
            ],
            "layout": "IPY_MODEL_c4f0b518afc342d6b063ecb913fd8761"
          }
        },
        "e77b9a91c4bd46e1bcbebea1a1a58ed9": {
          "model_module": "@jupyter-widgets/controls",
          "model_name": "HTMLModel",
          "model_module_version": "1.5.0",
          "state": {
            "_dom_classes": [],
            "_model_module": "@jupyter-widgets/controls",
            "_model_module_version": "1.5.0",
            "_model_name": "HTMLModel",
            "_view_count": null,
            "_view_module": "@jupyter-widgets/controls",
            "_view_module_version": "1.5.0",
            "_view_name": "HTMLView",
            "description": "",
            "description_tooltip": null,
            "layout": "IPY_MODEL_c572b9db17144df5999df2cd3ce841de",
            "placeholder": "​",
            "style": "IPY_MODEL_f34327fe31f7423b9ba53c1d32c17601",
            "value": "embedding_model.ckpt: 100%"
          }
        },
        "92c543100502475486b0691588417310": {
          "model_module": "@jupyter-widgets/controls",
          "model_name": "FloatProgressModel",
          "model_module_version": "1.5.0",
          "state": {
            "_dom_classes": [],
            "_model_module": "@jupyter-widgets/controls",
            "_model_module_version": "1.5.0",
            "_model_name": "FloatProgressModel",
            "_view_count": null,
            "_view_module": "@jupyter-widgets/controls",
            "_view_module_version": "1.5.0",
            "_view_name": "ProgressView",
            "bar_style": "success",
            "description": "",
            "description_tooltip": null,
            "layout": "IPY_MODEL_1d87a089f3f14bb68eb28069e18a88e0",
            "max": 16887676,
            "min": 0,
            "orientation": "horizontal",
            "style": "IPY_MODEL_61b86270caa54b5787e3df00a224b0e2",
            "value": 16887676
          }
        },
        "f1ca4037a0ca48169a5cae930d552e16": {
          "model_module": "@jupyter-widgets/controls",
          "model_name": "HTMLModel",
          "model_module_version": "1.5.0",
          "state": {
            "_dom_classes": [],
            "_model_module": "@jupyter-widgets/controls",
            "_model_module_version": "1.5.0",
            "_model_name": "HTMLModel",
            "_view_count": null,
            "_view_module": "@jupyter-widgets/controls",
            "_view_module_version": "1.5.0",
            "_view_name": "HTMLView",
            "description": "",
            "description_tooltip": null,
            "layout": "IPY_MODEL_80bf029a2ab44217898c9bbd2b97c618",
            "placeholder": "​",
            "style": "IPY_MODEL_f75ffae73947461caa556feaf900f91d",
            "value": " 16.9M/16.9M [00:00&lt;00:00, 78.2MB/s]"
          }
        },
        "c4f0b518afc342d6b063ecb913fd8761": {
          "model_module": "@jupyter-widgets/base",
          "model_name": "LayoutModel",
          "model_module_version": "1.2.0",
          "state": {
            "_model_module": "@jupyter-widgets/base",
            "_model_module_version": "1.2.0",
            "_model_name": "LayoutModel",
            "_view_count": null,
            "_view_module": "@jupyter-widgets/base",
            "_view_module_version": "1.2.0",
            "_view_name": "LayoutView",
            "align_content": null,
            "align_items": null,
            "align_self": null,
            "border": null,
            "bottom": null,
            "display": null,
            "flex": null,
            "flex_flow": null,
            "grid_area": null,
            "grid_auto_columns": null,
            "grid_auto_flow": null,
            "grid_auto_rows": null,
            "grid_column": null,
            "grid_gap": null,
            "grid_row": null,
            "grid_template_areas": null,
            "grid_template_columns": null,
            "grid_template_rows": null,
            "height": null,
            "justify_content": null,
            "justify_items": null,
            "left": null,
            "margin": null,
            "max_height": null,
            "max_width": null,
            "min_height": null,
            "min_width": null,
            "object_fit": null,
            "object_position": null,
            "order": null,
            "overflow": null,
            "overflow_x": null,
            "overflow_y": null,
            "padding": null,
            "right": null,
            "top": null,
            "visibility": null,
            "width": null
          }
        },
        "c572b9db17144df5999df2cd3ce841de": {
          "model_module": "@jupyter-widgets/base",
          "model_name": "LayoutModel",
          "model_module_version": "1.2.0",
          "state": {
            "_model_module": "@jupyter-widgets/base",
            "_model_module_version": "1.2.0",
            "_model_name": "LayoutModel",
            "_view_count": null,
            "_view_module": "@jupyter-widgets/base",
            "_view_module_version": "1.2.0",
            "_view_name": "LayoutView",
            "align_content": null,
            "align_items": null,
            "align_self": null,
            "border": null,
            "bottom": null,
            "display": null,
            "flex": null,
            "flex_flow": null,
            "grid_area": null,
            "grid_auto_columns": null,
            "grid_auto_flow": null,
            "grid_auto_rows": null,
            "grid_column": null,
            "grid_gap": null,
            "grid_row": null,
            "grid_template_areas": null,
            "grid_template_columns": null,
            "grid_template_rows": null,
            "height": null,
            "justify_content": null,
            "justify_items": null,
            "left": null,
            "margin": null,
            "max_height": null,
            "max_width": null,
            "min_height": null,
            "min_width": null,
            "object_fit": null,
            "object_position": null,
            "order": null,
            "overflow": null,
            "overflow_x": null,
            "overflow_y": null,
            "padding": null,
            "right": null,
            "top": null,
            "visibility": null,
            "width": null
          }
        },
        "f34327fe31f7423b9ba53c1d32c17601": {
          "model_module": "@jupyter-widgets/controls",
          "model_name": "DescriptionStyleModel",
          "model_module_version": "1.5.0",
          "state": {
            "_model_module": "@jupyter-widgets/controls",
            "_model_module_version": "1.5.0",
            "_model_name": "DescriptionStyleModel",
            "_view_count": null,
            "_view_module": "@jupyter-widgets/base",
            "_view_module_version": "1.2.0",
            "_view_name": "StyleView",
            "description_width": ""
          }
        },
        "1d87a089f3f14bb68eb28069e18a88e0": {
          "model_module": "@jupyter-widgets/base",
          "model_name": "LayoutModel",
          "model_module_version": "1.2.0",
          "state": {
            "_model_module": "@jupyter-widgets/base",
            "_model_module_version": "1.2.0",
            "_model_name": "LayoutModel",
            "_view_count": null,
            "_view_module": "@jupyter-widgets/base",
            "_view_module_version": "1.2.0",
            "_view_name": "LayoutView",
            "align_content": null,
            "align_items": null,
            "align_self": null,
            "border": null,
            "bottom": null,
            "display": null,
            "flex": null,
            "flex_flow": null,
            "grid_area": null,
            "grid_auto_columns": null,
            "grid_auto_flow": null,
            "grid_auto_rows": null,
            "grid_column": null,
            "grid_gap": null,
            "grid_row": null,
            "grid_template_areas": null,
            "grid_template_columns": null,
            "grid_template_rows": null,
            "height": null,
            "justify_content": null,
            "justify_items": null,
            "left": null,
            "margin": null,
            "max_height": null,
            "max_width": null,
            "min_height": null,
            "min_width": null,
            "object_fit": null,
            "object_position": null,
            "order": null,
            "overflow": null,
            "overflow_x": null,
            "overflow_y": null,
            "padding": null,
            "right": null,
            "top": null,
            "visibility": null,
            "width": null
          }
        },
        "61b86270caa54b5787e3df00a224b0e2": {
          "model_module": "@jupyter-widgets/controls",
          "model_name": "ProgressStyleModel",
          "model_module_version": "1.5.0",
          "state": {
            "_model_module": "@jupyter-widgets/controls",
            "_model_module_version": "1.5.0",
            "_model_name": "ProgressStyleModel",
            "_view_count": null,
            "_view_module": "@jupyter-widgets/base",
            "_view_module_version": "1.2.0",
            "_view_name": "StyleView",
            "bar_color": null,
            "description_width": ""
          }
        },
        "80bf029a2ab44217898c9bbd2b97c618": {
          "model_module": "@jupyter-widgets/base",
          "model_name": "LayoutModel",
          "model_module_version": "1.2.0",
          "state": {
            "_model_module": "@jupyter-widgets/base",
            "_model_module_version": "1.2.0",
            "_model_name": "LayoutModel",
            "_view_count": null,
            "_view_module": "@jupyter-widgets/base",
            "_view_module_version": "1.2.0",
            "_view_name": "LayoutView",
            "align_content": null,
            "align_items": null,
            "align_self": null,
            "border": null,
            "bottom": null,
            "display": null,
            "flex": null,
            "flex_flow": null,
            "grid_area": null,
            "grid_auto_columns": null,
            "grid_auto_flow": null,
            "grid_auto_rows": null,
            "grid_column": null,
            "grid_gap": null,
            "grid_row": null,
            "grid_template_areas": null,
            "grid_template_columns": null,
            "grid_template_rows": null,
            "height": null,
            "justify_content": null,
            "justify_items": null,
            "left": null,
            "margin": null,
            "max_height": null,
            "max_width": null,
            "min_height": null,
            "min_width": null,
            "object_fit": null,
            "object_position": null,
            "order": null,
            "overflow": null,
            "overflow_x": null,
            "overflow_y": null,
            "padding": null,
            "right": null,
            "top": null,
            "visibility": null,
            "width": null
          }
        },
        "f75ffae73947461caa556feaf900f91d": {
          "model_module": "@jupyter-widgets/controls",
          "model_name": "DescriptionStyleModel",
          "model_module_version": "1.5.0",
          "state": {
            "_model_module": "@jupyter-widgets/controls",
            "_model_module_version": "1.5.0",
            "_model_name": "DescriptionStyleModel",
            "_view_count": null,
            "_view_module": "@jupyter-widgets/base",
            "_view_module_version": "1.2.0",
            "_view_name": "StyleView",
            "description_width": ""
          }
        },
        "38c6f8760247403991f292c91c18581a": {
          "model_module": "@jupyter-widgets/controls",
          "model_name": "HBoxModel",
          "model_module_version": "1.5.0",
          "state": {
            "_dom_classes": [],
            "_model_module": "@jupyter-widgets/controls",
            "_model_module_version": "1.5.0",
            "_model_name": "HBoxModel",
            "_view_count": null,
            "_view_module": "@jupyter-widgets/controls",
            "_view_module_version": "1.5.0",
            "_view_name": "HBoxView",
            "box_style": "",
            "children": [
              "IPY_MODEL_4afd253c054b4b67903d58fd852e8174",
              "IPY_MODEL_64fae5e77e754af4b2712a86e1caf488",
              "IPY_MODEL_12498104675e4decb009f333398236c0"
            ],
            "layout": "IPY_MODEL_c970ffa9d4394c8cbe55f264906342f9"
          }
        },
        "4afd253c054b4b67903d58fd852e8174": {
          "model_module": "@jupyter-widgets/controls",
          "model_name": "HTMLModel",
          "model_module_version": "1.5.0",
          "state": {
            "_dom_classes": [],
            "_model_module": "@jupyter-widgets/controls",
            "_model_module_version": "1.5.0",
            "_model_name": "HTMLModel",
            "_view_count": null,
            "_view_module": "@jupyter-widgets/controls",
            "_view_module_version": "1.5.0",
            "_view_name": "HTMLView",
            "description": "",
            "description_tooltip": null,
            "layout": "IPY_MODEL_53483d61544c4fac95fb7ca3438a4590",
            "placeholder": "​",
            "style": "IPY_MODEL_ffe4d00e32bd4ee4940cb38bbfd3caef",
            "value": "mean_var_norm_emb.ckpt: 100%"
          }
        },
        "64fae5e77e754af4b2712a86e1caf488": {
          "model_module": "@jupyter-widgets/controls",
          "model_name": "FloatProgressModel",
          "model_module_version": "1.5.0",
          "state": {
            "_dom_classes": [],
            "_model_module": "@jupyter-widgets/controls",
            "_model_module_version": "1.5.0",
            "_model_name": "FloatProgressModel",
            "_view_count": null,
            "_view_module": "@jupyter-widgets/controls",
            "_view_module_version": "1.5.0",
            "_view_name": "ProgressView",
            "bar_style": "success",
            "description": "",
            "description_tooltip": null,
            "layout": "IPY_MODEL_dd91983e0f2246d3afa1494f72011aa1",
            "max": 3201,
            "min": 0,
            "orientation": "horizontal",
            "style": "IPY_MODEL_106b1b0991884bb2add533da8a37642d",
            "value": 3201
          }
        },
        "12498104675e4decb009f333398236c0": {
          "model_module": "@jupyter-widgets/controls",
          "model_name": "HTMLModel",
          "model_module_version": "1.5.0",
          "state": {
            "_dom_classes": [],
            "_model_module": "@jupyter-widgets/controls",
            "_model_module_version": "1.5.0",
            "_model_name": "HTMLModel",
            "_view_count": null,
            "_view_module": "@jupyter-widgets/controls",
            "_view_module_version": "1.5.0",
            "_view_name": "HTMLView",
            "description": "",
            "description_tooltip": null,
            "layout": "IPY_MODEL_0329a9f7d7294ee5b6cdb539bb8dc618",
            "placeholder": "​",
            "style": "IPY_MODEL_773d3fa13fdf44ce833f9a4c5008f63a",
            "value": " 3.20k/3.20k [00:00&lt;00:00, 96.7kB/s]"
          }
        },
        "c970ffa9d4394c8cbe55f264906342f9": {
          "model_module": "@jupyter-widgets/base",
          "model_name": "LayoutModel",
          "model_module_version": "1.2.0",
          "state": {
            "_model_module": "@jupyter-widgets/base",
            "_model_module_version": "1.2.0",
            "_model_name": "LayoutModel",
            "_view_count": null,
            "_view_module": "@jupyter-widgets/base",
            "_view_module_version": "1.2.0",
            "_view_name": "LayoutView",
            "align_content": null,
            "align_items": null,
            "align_self": null,
            "border": null,
            "bottom": null,
            "display": null,
            "flex": null,
            "flex_flow": null,
            "grid_area": null,
            "grid_auto_columns": null,
            "grid_auto_flow": null,
            "grid_auto_rows": null,
            "grid_column": null,
            "grid_gap": null,
            "grid_row": null,
            "grid_template_areas": null,
            "grid_template_columns": null,
            "grid_template_rows": null,
            "height": null,
            "justify_content": null,
            "justify_items": null,
            "left": null,
            "margin": null,
            "max_height": null,
            "max_width": null,
            "min_height": null,
            "min_width": null,
            "object_fit": null,
            "object_position": null,
            "order": null,
            "overflow": null,
            "overflow_x": null,
            "overflow_y": null,
            "padding": null,
            "right": null,
            "top": null,
            "visibility": null,
            "width": null
          }
        },
        "53483d61544c4fac95fb7ca3438a4590": {
          "model_module": "@jupyter-widgets/base",
          "model_name": "LayoutModel",
          "model_module_version": "1.2.0",
          "state": {
            "_model_module": "@jupyter-widgets/base",
            "_model_module_version": "1.2.0",
            "_model_name": "LayoutModel",
            "_view_count": null,
            "_view_module": "@jupyter-widgets/base",
            "_view_module_version": "1.2.0",
            "_view_name": "LayoutView",
            "align_content": null,
            "align_items": null,
            "align_self": null,
            "border": null,
            "bottom": null,
            "display": null,
            "flex": null,
            "flex_flow": null,
            "grid_area": null,
            "grid_auto_columns": null,
            "grid_auto_flow": null,
            "grid_auto_rows": null,
            "grid_column": null,
            "grid_gap": null,
            "grid_row": null,
            "grid_template_areas": null,
            "grid_template_columns": null,
            "grid_template_rows": null,
            "height": null,
            "justify_content": null,
            "justify_items": null,
            "left": null,
            "margin": null,
            "max_height": null,
            "max_width": null,
            "min_height": null,
            "min_width": null,
            "object_fit": null,
            "object_position": null,
            "order": null,
            "overflow": null,
            "overflow_x": null,
            "overflow_y": null,
            "padding": null,
            "right": null,
            "top": null,
            "visibility": null,
            "width": null
          }
        },
        "ffe4d00e32bd4ee4940cb38bbfd3caef": {
          "model_module": "@jupyter-widgets/controls",
          "model_name": "DescriptionStyleModel",
          "model_module_version": "1.5.0",
          "state": {
            "_model_module": "@jupyter-widgets/controls",
            "_model_module_version": "1.5.0",
            "_model_name": "DescriptionStyleModel",
            "_view_count": null,
            "_view_module": "@jupyter-widgets/base",
            "_view_module_version": "1.2.0",
            "_view_name": "StyleView",
            "description_width": ""
          }
        },
        "dd91983e0f2246d3afa1494f72011aa1": {
          "model_module": "@jupyter-widgets/base",
          "model_name": "LayoutModel",
          "model_module_version": "1.2.0",
          "state": {
            "_model_module": "@jupyter-widgets/base",
            "_model_module_version": "1.2.0",
            "_model_name": "LayoutModel",
            "_view_count": null,
            "_view_module": "@jupyter-widgets/base",
            "_view_module_version": "1.2.0",
            "_view_name": "LayoutView",
            "align_content": null,
            "align_items": null,
            "align_self": null,
            "border": null,
            "bottom": null,
            "display": null,
            "flex": null,
            "flex_flow": null,
            "grid_area": null,
            "grid_auto_columns": null,
            "grid_auto_flow": null,
            "grid_auto_rows": null,
            "grid_column": null,
            "grid_gap": null,
            "grid_row": null,
            "grid_template_areas": null,
            "grid_template_columns": null,
            "grid_template_rows": null,
            "height": null,
            "justify_content": null,
            "justify_items": null,
            "left": null,
            "margin": null,
            "max_height": null,
            "max_width": null,
            "min_height": null,
            "min_width": null,
            "object_fit": null,
            "object_position": null,
            "order": null,
            "overflow": null,
            "overflow_x": null,
            "overflow_y": null,
            "padding": null,
            "right": null,
            "top": null,
            "visibility": null,
            "width": null
          }
        },
        "106b1b0991884bb2add533da8a37642d": {
          "model_module": "@jupyter-widgets/controls",
          "model_name": "ProgressStyleModel",
          "model_module_version": "1.5.0",
          "state": {
            "_model_module": "@jupyter-widgets/controls",
            "_model_module_version": "1.5.0",
            "_model_name": "ProgressStyleModel",
            "_view_count": null,
            "_view_module": "@jupyter-widgets/base",
            "_view_module_version": "1.2.0",
            "_view_name": "StyleView",
            "bar_color": null,
            "description_width": ""
          }
        },
        "0329a9f7d7294ee5b6cdb539bb8dc618": {
          "model_module": "@jupyter-widgets/base",
          "model_name": "LayoutModel",
          "model_module_version": "1.2.0",
          "state": {
            "_model_module": "@jupyter-widgets/base",
            "_model_module_version": "1.2.0",
            "_model_name": "LayoutModel",
            "_view_count": null,
            "_view_module": "@jupyter-widgets/base",
            "_view_module_version": "1.2.0",
            "_view_name": "LayoutView",
            "align_content": null,
            "align_items": null,
            "align_self": null,
            "border": null,
            "bottom": null,
            "display": null,
            "flex": null,
            "flex_flow": null,
            "grid_area": null,
            "grid_auto_columns": null,
            "grid_auto_flow": null,
            "grid_auto_rows": null,
            "grid_column": null,
            "grid_gap": null,
            "grid_row": null,
            "grid_template_areas": null,
            "grid_template_columns": null,
            "grid_template_rows": null,
            "height": null,
            "justify_content": null,
            "justify_items": null,
            "left": null,
            "margin": null,
            "max_height": null,
            "max_width": null,
            "min_height": null,
            "min_width": null,
            "object_fit": null,
            "object_position": null,
            "order": null,
            "overflow": null,
            "overflow_x": null,
            "overflow_y": null,
            "padding": null,
            "right": null,
            "top": null,
            "visibility": null,
            "width": null
          }
        },
        "773d3fa13fdf44ce833f9a4c5008f63a": {
          "model_module": "@jupyter-widgets/controls",
          "model_name": "DescriptionStyleModel",
          "model_module_version": "1.5.0",
          "state": {
            "_model_module": "@jupyter-widgets/controls",
            "_model_module_version": "1.5.0",
            "_model_name": "DescriptionStyleModel",
            "_view_count": null,
            "_view_module": "@jupyter-widgets/base",
            "_view_module_version": "1.2.0",
            "_view_name": "StyleView",
            "description_width": ""
          }
        },
        "f85190abc0d54eaa9ee5c79ddf7d0f8a": {
          "model_module": "@jupyter-widgets/controls",
          "model_name": "HBoxModel",
          "model_module_version": "1.5.0",
          "state": {
            "_dom_classes": [],
            "_model_module": "@jupyter-widgets/controls",
            "_model_module_version": "1.5.0",
            "_model_name": "HBoxModel",
            "_view_count": null,
            "_view_module": "@jupyter-widgets/controls",
            "_view_module_version": "1.5.0",
            "_view_name": "HBoxView",
            "box_style": "",
            "children": [
              "IPY_MODEL_855c746d993a445ba35d5f1897ad9294",
              "IPY_MODEL_fc3495a737644243860558e9c8306c55",
              "IPY_MODEL_13bd494b14b54de8a37646b867a24aa8"
            ],
            "layout": "IPY_MODEL_5786b6e5e179495eb8a4147dd6cf8d7f"
          }
        },
        "855c746d993a445ba35d5f1897ad9294": {
          "model_module": "@jupyter-widgets/controls",
          "model_name": "HTMLModel",
          "model_module_version": "1.5.0",
          "state": {
            "_dom_classes": [],
            "_model_module": "@jupyter-widgets/controls",
            "_model_module_version": "1.5.0",
            "_model_name": "HTMLModel",
            "_view_count": null,
            "_view_module": "@jupyter-widgets/controls",
            "_view_module_version": "1.5.0",
            "_view_name": "HTMLView",
            "description": "",
            "description_tooltip": null,
            "layout": "IPY_MODEL_a34f1a2919e948ee870f6664b98ca620",
            "placeholder": "​",
            "style": "IPY_MODEL_299c55435e164af2849faa6e060cd786",
            "value": "classifier.ckpt: 100%"
          }
        },
        "fc3495a737644243860558e9c8306c55": {
          "model_module": "@jupyter-widgets/controls",
          "model_name": "FloatProgressModel",
          "model_module_version": "1.5.0",
          "state": {
            "_dom_classes": [],
            "_model_module": "@jupyter-widgets/controls",
            "_model_module_version": "1.5.0",
            "_model_name": "FloatProgressModel",
            "_view_count": null,
            "_view_module": "@jupyter-widgets/controls",
            "_view_module_version": "1.5.0",
            "_view_name": "ProgressView",
            "bar_style": "success",
            "description": "",
            "description_tooltip": null,
            "layout": "IPY_MODEL_822fd7c488cc481cb71c779e4c5ace34",
            "max": 15856877,
            "min": 0,
            "orientation": "horizontal",
            "style": "IPY_MODEL_0d98293be1404529af059c1900eee6df",
            "value": 15856877
          }
        },
        "13bd494b14b54de8a37646b867a24aa8": {
          "model_module": "@jupyter-widgets/controls",
          "model_name": "HTMLModel",
          "model_module_version": "1.5.0",
          "state": {
            "_dom_classes": [],
            "_model_module": "@jupyter-widgets/controls",
            "_model_module_version": "1.5.0",
            "_model_name": "HTMLModel",
            "_view_count": null,
            "_view_module": "@jupyter-widgets/controls",
            "_view_module_version": "1.5.0",
            "_view_name": "HTMLView",
            "description": "",
            "description_tooltip": null,
            "layout": "IPY_MODEL_f17be5556a414b55a642be87d0e36b97",
            "placeholder": "​",
            "style": "IPY_MODEL_4914bb5f41ff49b9b5665f77a74aa7e8",
            "value": " 15.9M/15.9M [00:00&lt;00:00, 154MB/s]"
          }
        },
        "5786b6e5e179495eb8a4147dd6cf8d7f": {
          "model_module": "@jupyter-widgets/base",
          "model_name": "LayoutModel",
          "model_module_version": "1.2.0",
          "state": {
            "_model_module": "@jupyter-widgets/base",
            "_model_module_version": "1.2.0",
            "_model_name": "LayoutModel",
            "_view_count": null,
            "_view_module": "@jupyter-widgets/base",
            "_view_module_version": "1.2.0",
            "_view_name": "LayoutView",
            "align_content": null,
            "align_items": null,
            "align_self": null,
            "border": null,
            "bottom": null,
            "display": null,
            "flex": null,
            "flex_flow": null,
            "grid_area": null,
            "grid_auto_columns": null,
            "grid_auto_flow": null,
            "grid_auto_rows": null,
            "grid_column": null,
            "grid_gap": null,
            "grid_row": null,
            "grid_template_areas": null,
            "grid_template_columns": null,
            "grid_template_rows": null,
            "height": null,
            "justify_content": null,
            "justify_items": null,
            "left": null,
            "margin": null,
            "max_height": null,
            "max_width": null,
            "min_height": null,
            "min_width": null,
            "object_fit": null,
            "object_position": null,
            "order": null,
            "overflow": null,
            "overflow_x": null,
            "overflow_y": null,
            "padding": null,
            "right": null,
            "top": null,
            "visibility": null,
            "width": null
          }
        },
        "a34f1a2919e948ee870f6664b98ca620": {
          "model_module": "@jupyter-widgets/base",
          "model_name": "LayoutModel",
          "model_module_version": "1.2.0",
          "state": {
            "_model_module": "@jupyter-widgets/base",
            "_model_module_version": "1.2.0",
            "_model_name": "LayoutModel",
            "_view_count": null,
            "_view_module": "@jupyter-widgets/base",
            "_view_module_version": "1.2.0",
            "_view_name": "LayoutView",
            "align_content": null,
            "align_items": null,
            "align_self": null,
            "border": null,
            "bottom": null,
            "display": null,
            "flex": null,
            "flex_flow": null,
            "grid_area": null,
            "grid_auto_columns": null,
            "grid_auto_flow": null,
            "grid_auto_rows": null,
            "grid_column": null,
            "grid_gap": null,
            "grid_row": null,
            "grid_template_areas": null,
            "grid_template_columns": null,
            "grid_template_rows": null,
            "height": null,
            "justify_content": null,
            "justify_items": null,
            "left": null,
            "margin": null,
            "max_height": null,
            "max_width": null,
            "min_height": null,
            "min_width": null,
            "object_fit": null,
            "object_position": null,
            "order": null,
            "overflow": null,
            "overflow_x": null,
            "overflow_y": null,
            "padding": null,
            "right": null,
            "top": null,
            "visibility": null,
            "width": null
          }
        },
        "299c55435e164af2849faa6e060cd786": {
          "model_module": "@jupyter-widgets/controls",
          "model_name": "DescriptionStyleModel",
          "model_module_version": "1.5.0",
          "state": {
            "_model_module": "@jupyter-widgets/controls",
            "_model_module_version": "1.5.0",
            "_model_name": "DescriptionStyleModel",
            "_view_count": null,
            "_view_module": "@jupyter-widgets/base",
            "_view_module_version": "1.2.0",
            "_view_name": "StyleView",
            "description_width": ""
          }
        },
        "822fd7c488cc481cb71c779e4c5ace34": {
          "model_module": "@jupyter-widgets/base",
          "model_name": "LayoutModel",
          "model_module_version": "1.2.0",
          "state": {
            "_model_module": "@jupyter-widgets/base",
            "_model_module_version": "1.2.0",
            "_model_name": "LayoutModel",
            "_view_count": null,
            "_view_module": "@jupyter-widgets/base",
            "_view_module_version": "1.2.0",
            "_view_name": "LayoutView",
            "align_content": null,
            "align_items": null,
            "align_self": null,
            "border": null,
            "bottom": null,
            "display": null,
            "flex": null,
            "flex_flow": null,
            "grid_area": null,
            "grid_auto_columns": null,
            "grid_auto_flow": null,
            "grid_auto_rows": null,
            "grid_column": null,
            "grid_gap": null,
            "grid_row": null,
            "grid_template_areas": null,
            "grid_template_columns": null,
            "grid_template_rows": null,
            "height": null,
            "justify_content": null,
            "justify_items": null,
            "left": null,
            "margin": null,
            "max_height": null,
            "max_width": null,
            "min_height": null,
            "min_width": null,
            "object_fit": null,
            "object_position": null,
            "order": null,
            "overflow": null,
            "overflow_x": null,
            "overflow_y": null,
            "padding": null,
            "right": null,
            "top": null,
            "visibility": null,
            "width": null
          }
        },
        "0d98293be1404529af059c1900eee6df": {
          "model_module": "@jupyter-widgets/controls",
          "model_name": "ProgressStyleModel",
          "model_module_version": "1.5.0",
          "state": {
            "_model_module": "@jupyter-widgets/controls",
            "_model_module_version": "1.5.0",
            "_model_name": "ProgressStyleModel",
            "_view_count": null,
            "_view_module": "@jupyter-widgets/base",
            "_view_module_version": "1.2.0",
            "_view_name": "StyleView",
            "bar_color": null,
            "description_width": ""
          }
        },
        "f17be5556a414b55a642be87d0e36b97": {
          "model_module": "@jupyter-widgets/base",
          "model_name": "LayoutModel",
          "model_module_version": "1.2.0",
          "state": {
            "_model_module": "@jupyter-widgets/base",
            "_model_module_version": "1.2.0",
            "_model_name": "LayoutModel",
            "_view_count": null,
            "_view_module": "@jupyter-widgets/base",
            "_view_module_version": "1.2.0",
            "_view_name": "LayoutView",
            "align_content": null,
            "align_items": null,
            "align_self": null,
            "border": null,
            "bottom": null,
            "display": null,
            "flex": null,
            "flex_flow": null,
            "grid_area": null,
            "grid_auto_columns": null,
            "grid_auto_flow": null,
            "grid_auto_rows": null,
            "grid_column": null,
            "grid_gap": null,
            "grid_row": null,
            "grid_template_areas": null,
            "grid_template_columns": null,
            "grid_template_rows": null,
            "height": null,
            "justify_content": null,
            "justify_items": null,
            "left": null,
            "margin": null,
            "max_height": null,
            "max_width": null,
            "min_height": null,
            "min_width": null,
            "object_fit": null,
            "object_position": null,
            "order": null,
            "overflow": null,
            "overflow_x": null,
            "overflow_y": null,
            "padding": null,
            "right": null,
            "top": null,
            "visibility": null,
            "width": null
          }
        },
        "4914bb5f41ff49b9b5665f77a74aa7e8": {
          "model_module": "@jupyter-widgets/controls",
          "model_name": "DescriptionStyleModel",
          "model_module_version": "1.5.0",
          "state": {
            "_model_module": "@jupyter-widgets/controls",
            "_model_module_version": "1.5.0",
            "_model_name": "DescriptionStyleModel",
            "_view_count": null,
            "_view_module": "@jupyter-widgets/base",
            "_view_module_version": "1.2.0",
            "_view_name": "StyleView",
            "description_width": ""
          }
        },
        "683cc940d11840b0aa6a482baa442fd1": {
          "model_module": "@jupyter-widgets/controls",
          "model_name": "HBoxModel",
          "model_module_version": "1.5.0",
          "state": {
            "_dom_classes": [],
            "_model_module": "@jupyter-widgets/controls",
            "_model_module_version": "1.5.0",
            "_model_name": "HBoxModel",
            "_view_count": null,
            "_view_module": "@jupyter-widgets/controls",
            "_view_module_version": "1.5.0",
            "_view_name": "HBoxView",
            "box_style": "",
            "children": [
              "IPY_MODEL_86dc560d23304778a1cbd6d97f2a6306",
              "IPY_MODEL_1b0d71ac38bb402a9a5d8a03e58aac68",
              "IPY_MODEL_6f3f3423556843558639825bd8fe0209"
            ],
            "layout": "IPY_MODEL_3e99863565404c83b8a6f970a3fb8367"
          }
        },
        "86dc560d23304778a1cbd6d97f2a6306": {
          "model_module": "@jupyter-widgets/controls",
          "model_name": "HTMLModel",
          "model_module_version": "1.5.0",
          "state": {
            "_dom_classes": [],
            "_model_module": "@jupyter-widgets/controls",
            "_model_module_version": "1.5.0",
            "_model_name": "HTMLModel",
            "_view_count": null,
            "_view_module": "@jupyter-widgets/controls",
            "_view_module_version": "1.5.0",
            "_view_name": "HTMLView",
            "description": "",
            "description_tooltip": null,
            "layout": "IPY_MODEL_c3bbf9aa537743bc946e119cab3cf159",
            "placeholder": "​",
            "style": "IPY_MODEL_1557cc9f426f48b89a0f876e03779b42",
            "value": "label_encoder.txt: 100%"
          }
        },
        "1b0d71ac38bb402a9a5d8a03e58aac68": {
          "model_module": "@jupyter-widgets/controls",
          "model_name": "FloatProgressModel",
          "model_module_version": "1.5.0",
          "state": {
            "_dom_classes": [],
            "_model_module": "@jupyter-widgets/controls",
            "_model_module_version": "1.5.0",
            "_model_name": "FloatProgressModel",
            "_view_count": null,
            "_view_module": "@jupyter-widgets/controls",
            "_view_module_version": "1.5.0",
            "_view_name": "ProgressView",
            "bar_style": "success",
            "description": "",
            "description_tooltip": null,
            "layout": "IPY_MODEL_fc2421b3e8464b8289f0e454321c128e",
            "max": 128619,
            "min": 0,
            "orientation": "horizontal",
            "style": "IPY_MODEL_35da5fa89062426ba82255a3b9b6d6bf",
            "value": 128619
          }
        },
        "6f3f3423556843558639825bd8fe0209": {
          "model_module": "@jupyter-widgets/controls",
          "model_name": "HTMLModel",
          "model_module_version": "1.5.0",
          "state": {
            "_dom_classes": [],
            "_model_module": "@jupyter-widgets/controls",
            "_model_module_version": "1.5.0",
            "_model_name": "HTMLModel",
            "_view_count": null,
            "_view_module": "@jupyter-widgets/controls",
            "_view_module_version": "1.5.0",
            "_view_name": "HTMLView",
            "description": "",
            "description_tooltip": null,
            "layout": "IPY_MODEL_09e06edfe6dc45edb62280935ead3762",
            "placeholder": "​",
            "style": "IPY_MODEL_073fe3d69c284bcd89c8cf48cfa53ecc",
            "value": " 129k/129k [00:00&lt;00:00, 1.51MB/s]"
          }
        },
        "3e99863565404c83b8a6f970a3fb8367": {
          "model_module": "@jupyter-widgets/base",
          "model_name": "LayoutModel",
          "model_module_version": "1.2.0",
          "state": {
            "_model_module": "@jupyter-widgets/base",
            "_model_module_version": "1.2.0",
            "_model_name": "LayoutModel",
            "_view_count": null,
            "_view_module": "@jupyter-widgets/base",
            "_view_module_version": "1.2.0",
            "_view_name": "LayoutView",
            "align_content": null,
            "align_items": null,
            "align_self": null,
            "border": null,
            "bottom": null,
            "display": null,
            "flex": null,
            "flex_flow": null,
            "grid_area": null,
            "grid_auto_columns": null,
            "grid_auto_flow": null,
            "grid_auto_rows": null,
            "grid_column": null,
            "grid_gap": null,
            "grid_row": null,
            "grid_template_areas": null,
            "grid_template_columns": null,
            "grid_template_rows": null,
            "height": null,
            "justify_content": null,
            "justify_items": null,
            "left": null,
            "margin": null,
            "max_height": null,
            "max_width": null,
            "min_height": null,
            "min_width": null,
            "object_fit": null,
            "object_position": null,
            "order": null,
            "overflow": null,
            "overflow_x": null,
            "overflow_y": null,
            "padding": null,
            "right": null,
            "top": null,
            "visibility": null,
            "width": null
          }
        },
        "c3bbf9aa537743bc946e119cab3cf159": {
          "model_module": "@jupyter-widgets/base",
          "model_name": "LayoutModel",
          "model_module_version": "1.2.0",
          "state": {
            "_model_module": "@jupyter-widgets/base",
            "_model_module_version": "1.2.0",
            "_model_name": "LayoutModel",
            "_view_count": null,
            "_view_module": "@jupyter-widgets/base",
            "_view_module_version": "1.2.0",
            "_view_name": "LayoutView",
            "align_content": null,
            "align_items": null,
            "align_self": null,
            "border": null,
            "bottom": null,
            "display": null,
            "flex": null,
            "flex_flow": null,
            "grid_area": null,
            "grid_auto_columns": null,
            "grid_auto_flow": null,
            "grid_auto_rows": null,
            "grid_column": null,
            "grid_gap": null,
            "grid_row": null,
            "grid_template_areas": null,
            "grid_template_columns": null,
            "grid_template_rows": null,
            "height": null,
            "justify_content": null,
            "justify_items": null,
            "left": null,
            "margin": null,
            "max_height": null,
            "max_width": null,
            "min_height": null,
            "min_width": null,
            "object_fit": null,
            "object_position": null,
            "order": null,
            "overflow": null,
            "overflow_x": null,
            "overflow_y": null,
            "padding": null,
            "right": null,
            "top": null,
            "visibility": null,
            "width": null
          }
        },
        "1557cc9f426f48b89a0f876e03779b42": {
          "model_module": "@jupyter-widgets/controls",
          "model_name": "DescriptionStyleModel",
          "model_module_version": "1.5.0",
          "state": {
            "_model_module": "@jupyter-widgets/controls",
            "_model_module_version": "1.5.0",
            "_model_name": "DescriptionStyleModel",
            "_view_count": null,
            "_view_module": "@jupyter-widgets/base",
            "_view_module_version": "1.2.0",
            "_view_name": "StyleView",
            "description_width": ""
          }
        },
        "fc2421b3e8464b8289f0e454321c128e": {
          "model_module": "@jupyter-widgets/base",
          "model_name": "LayoutModel",
          "model_module_version": "1.2.0",
          "state": {
            "_model_module": "@jupyter-widgets/base",
            "_model_module_version": "1.2.0",
            "_model_name": "LayoutModel",
            "_view_count": null,
            "_view_module": "@jupyter-widgets/base",
            "_view_module_version": "1.2.0",
            "_view_name": "LayoutView",
            "align_content": null,
            "align_items": null,
            "align_self": null,
            "border": null,
            "bottom": null,
            "display": null,
            "flex": null,
            "flex_flow": null,
            "grid_area": null,
            "grid_auto_columns": null,
            "grid_auto_flow": null,
            "grid_auto_rows": null,
            "grid_column": null,
            "grid_gap": null,
            "grid_row": null,
            "grid_template_areas": null,
            "grid_template_columns": null,
            "grid_template_rows": null,
            "height": null,
            "justify_content": null,
            "justify_items": null,
            "left": null,
            "margin": null,
            "max_height": null,
            "max_width": null,
            "min_height": null,
            "min_width": null,
            "object_fit": null,
            "object_position": null,
            "order": null,
            "overflow": null,
            "overflow_x": null,
            "overflow_y": null,
            "padding": null,
            "right": null,
            "top": null,
            "visibility": null,
            "width": null
          }
        },
        "35da5fa89062426ba82255a3b9b6d6bf": {
          "model_module": "@jupyter-widgets/controls",
          "model_name": "ProgressStyleModel",
          "model_module_version": "1.5.0",
          "state": {
            "_model_module": "@jupyter-widgets/controls",
            "_model_module_version": "1.5.0",
            "_model_name": "ProgressStyleModel",
            "_view_count": null,
            "_view_module": "@jupyter-widgets/base",
            "_view_module_version": "1.2.0",
            "_view_name": "StyleView",
            "bar_color": null,
            "description_width": ""
          }
        },
        "09e06edfe6dc45edb62280935ead3762": {
          "model_module": "@jupyter-widgets/base",
          "model_name": "LayoutModel",
          "model_module_version": "1.2.0",
          "state": {
            "_model_module": "@jupyter-widgets/base",
            "_model_module_version": "1.2.0",
            "_model_name": "LayoutModel",
            "_view_count": null,
            "_view_module": "@jupyter-widgets/base",
            "_view_module_version": "1.2.0",
            "_view_name": "LayoutView",
            "align_content": null,
            "align_items": null,
            "align_self": null,
            "border": null,
            "bottom": null,
            "display": null,
            "flex": null,
            "flex_flow": null,
            "grid_area": null,
            "grid_auto_columns": null,
            "grid_auto_flow": null,
            "grid_auto_rows": null,
            "grid_column": null,
            "grid_gap": null,
            "grid_row": null,
            "grid_template_areas": null,
            "grid_template_columns": null,
            "grid_template_rows": null,
            "height": null,
            "justify_content": null,
            "justify_items": null,
            "left": null,
            "margin": null,
            "max_height": null,
            "max_width": null,
            "min_height": null,
            "min_width": null,
            "object_fit": null,
            "object_position": null,
            "order": null,
            "overflow": null,
            "overflow_x": null,
            "overflow_y": null,
            "padding": null,
            "right": null,
            "top": null,
            "visibility": null,
            "width": null
          }
        },
        "073fe3d69c284bcd89c8cf48cfa53ecc": {
          "model_module": "@jupyter-widgets/controls",
          "model_name": "DescriptionStyleModel",
          "model_module_version": "1.5.0",
          "state": {
            "_model_module": "@jupyter-widgets/controls",
            "_model_module_version": "1.5.0",
            "_model_name": "DescriptionStyleModel",
            "_view_count": null,
            "_view_module": "@jupyter-widgets/base",
            "_view_module_version": "1.2.0",
            "_view_name": "StyleView",
            "description_width": ""
          }
        }
      }
    },
    "accelerator": "GPU"
  },
  "nbformat": 4,
  "nbformat_minor": 0
}